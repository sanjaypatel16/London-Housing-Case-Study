{
 "cells": [
  {
   "cell_type": "markdown",
   "metadata": {
    "colab_type": "text",
    "id": "Tia3MP1SJpgj"
   },
   "source": [
    "# Springboard Data Science Career Track Unit 4 Challenge - Tier 3 Complete\n",
    "\n",
    "## Objectives\n",
    "Hey! Great job getting through those challenging DataCamp courses. You're learning a lot in a short span of time. \n",
    "\n",
    "In this notebook, you're going to apply the skills you've been learning, bridging the gap between the controlled environment of DataCamp and the *slightly* messier work that data scientists do with actual datasets!\n",
    "\n",
    "Here’s the mystery we’re going to solve: ***which boroughs of London have seen the greatest increase in housing prices, on average, over the last two decades?***\n",
    "\n",
    "\n",
    "A borough is just a fancy word for district. You may be familiar with the five boroughs of New York… well, there are 32 boroughs within Greater London [(here's some info for the curious)](https://en.wikipedia.org/wiki/London_boroughs). Some of them are more desirable areas to live in, and the data will reflect that with a greater rise in housing prices.\n",
    "\n",
    "***This is the Tier 3 notebook, which means it's not filled in at all: we'll just give you the skeleton of a project, the brief and the data. It's up to you to play around with it and see what you can find out! Good luck! If you struggle, feel free to look at easier tiers for help; but try to dip in and out of them, as the more independent work you do, the better it is for your learning!***\n",
    "\n",
    "This challenge will make use of only what you learned in the following DataCamp courses: \n",
    "- Prework courses (Introduction to Python for Data Science, Intermediate Python for Data Science)\n",
    "- Data Types for Data Science\n",
    "- Python Data Science Toolbox (Part One) \n",
    "- pandas Foundations\n",
    "- Manipulating DataFrames with pandas\n",
    "- Merging DataFrames with pandas\n",
    "\n",
    "Of the tools, techniques and concepts in the above DataCamp courses, this challenge should require the application of the following: \n",
    "- **pandas**\n",
    "    - **data ingestion and inspection** (pandas Foundations, Module One) \n",
    "    - **exploratory data analysis** (pandas Foundations, Module Two)\n",
    "    - **tidying and cleaning** (Manipulating DataFrames with pandas, Module Three) \n",
    "    - **transforming DataFrames** (Manipulating DataFrames with pandas, Module One)\n",
    "    - **subsetting DataFrames with lists** (Manipulating DataFrames with pandas, Module One) \n",
    "    - **filtering DataFrames** (Manipulating DataFrames with pandas, Module One) \n",
    "    - **grouping data** (Manipulating DataFrames with pandas, Module Four) \n",
    "    - **melting data** (Manipulating DataFrames with pandas, Module Three) \n",
    "    - **advanced indexing** (Manipulating DataFrames with pandas, Module Four) \n",
    "- **matplotlib** (Intermediate Python for Data Science, Module One)\n",
    "- **fundamental data types** (Data Types for Data Science, Module One) \n",
    "- **dictionaries** (Intermediate Python for Data Science, Module Two)\n",
    "- **handling dates and times** (Data Types for Data Science, Module Four)\n",
    "- **function definition** (Python Data Science Toolbox - Part One, Module One)\n",
    "- **default arguments, variable length, and scope** (Python Data Science Toolbox - Part One, Module Two) \n",
    "- **lambda functions and error handling** (Python Data Science Toolbox - Part One, Module Four) "
   ]
  },
  {
   "cell_type": "markdown",
   "metadata": {
    "colab_type": "text",
    "id": "Ipgd2nV8Jpgl"
   },
   "source": [
    "## The Data Science Pipeline\n",
    "\n",
    "This is Tier Three, so we'll get you started. But after that, it's all in your hands! When you feel done with your investigations, look back over what you've accomplished, and prepare a quick presentation of your findings for the next mentor meeting. \n",
    "\n",
    "Data Science is magical. In this case study, you'll get to apply some complex machine learning algorithms. But as  [David Spiegelhalter](https://www.youtube.com/watch?v=oUs1uvsz0Ok) reminds us, there is no substitute for simply **taking a really, really good look at the data.** Sometimes, this is all we need to answer our question.\n",
    "\n",
    "Data Science projects generally adhere to the four stages of Data Science Pipeline:\n",
    "1. Sourcing and loading \n",
    "2. Cleaning, transforming, and visualizing \n",
    "3. Modeling \n",
    "4. Evaluating and concluding \n"
   ]
  },
  {
   "cell_type": "markdown",
   "metadata": {
    "colab_type": "text",
    "id": "zswDqbefJpgm"
   },
   "source": [
    "### 1. Sourcing and Loading \n",
    "\n",
    "Any Data Science project kicks off by importing  ***pandas***. The documentation of this wonderful library can be found [here](https://pandas.pydata.org/). As you've seen, pandas is conveniently connected to the [Numpy](http://www.numpy.org/) and [Matplotlib](https://matplotlib.org/) libraries. \n",
    "\n",
    "***Hint:*** This part of the data science pipeline will test those skills you acquired in the pandas Foundations course, Module One. "
   ]
  },
  {
   "cell_type": "markdown",
   "metadata": {
    "colab_type": "text",
    "id": "aEau5nEvJpgm"
   },
   "source": [
    "#### 1.1. Importing Libraries"
   ]
  },
  {
   "cell_type": "code",
   "execution_count": 1,
   "metadata": {
    "colab": {},
    "colab_type": "code",
    "id": "7Bt_Q_oPJpgn"
   },
   "outputs": [],
   "source": [
    "# Let's import the pandas, numpy libraries as pd, and np respectively. \n",
    "import pandas as pd\n",
    "import numpy as np\n",
    "\n",
    "# Load the pyplot collection of functions from matplotlib, as plt \n",
    "import matplotlib.pyplot as plt"
   ]
  },
  {
   "cell_type": "markdown",
   "metadata": {
    "colab_type": "text",
    "id": "koUrawxsJpgq"
   },
   "source": [
    "#### 1.2.  Loading the data\n",
    "Your data comes from the [London Datastore](https://data.london.gov.uk/): a free, open-source data-sharing portal for London-oriented datasets. "
   ]
  },
  {
   "cell_type": "code",
   "execution_count": 2,
   "metadata": {
    "colab": {},
    "colab_type": "code",
    "id": "AiLiD4v3Jpgr"
   },
   "outputs": [],
   "source": [
    "# First, make a variable called url_LondonHousePrices, and assign it the following link, enclosed in quotation-marks as a string:\n",
    "# https://data.london.gov.uk/download/uk-house-price-index/70ac0766-8902-4eb5-aab5-01951aaed773/UK%20House%20price%20index.xls\n",
    "\n",
    "url_LondonHousePrices = \"https://data.london.gov.uk/download/uk-house-price-index/70ac0766-8902-4eb5-aab5-01951aaed773/UK%20House%20price%20index.xls\"\n",
    "\n",
    "# The dataset we're interested in contains the Average prices of the houses, and is actually on a particular sheet of the Excel file. \n",
    "# As a result, we need to specify the sheet name in the read_excel() method.\n",
    "# Put this data into a variable called properties.  \n",
    "properties = pd.read_excel(url_LondonHousePrices, sheet_name='Average price', index_col= None)"
   ]
  },
  {
   "cell_type": "markdown",
   "metadata": {
    "colab_type": "text",
    "id": "POukEJXgJpgu"
   },
   "source": [
    "### 2. Cleaning, transforming, and visualizing\n",
    "This second stage is arguably the most important part of any Data Science project. The first thing to do is take a proper look at the data. Cleaning forms the majority of this stage, and can be done both before or after Transformation.\n",
    "\n",
    "The end goal of data cleaning is to have tidy data. When data is tidy: \n",
    "\n",
    "1. Each variable has a column.\n",
    "2. Each observation forms a row.\n",
    "\n",
    "Keep the end goal in mind as you move through this process, every step will take you closer. \n",
    "\n",
    "\n",
    "\n",
    "***Hint:*** This part of the data science pipeline should test those skills you acquired in: \n",
    "- Intermediate Python for data science, all modules.\n",
    "- pandas Foundations, all modules. \n",
    "- Manipulating DataFrames with pandas, all modules.\n",
    "- Data Types for Data Science, Module Four.\n",
    "- Python Data Science Toolbox - Part One, all modules"
   ]
  },
  {
   "cell_type": "markdown",
   "metadata": {
    "colab_type": "text",
    "id": "Te0Q548tnzZa"
   },
   "source": [
    "**2.1. Exploring your data** \n",
    "\n",
    "Think about your pandas functions for checking out a dataframe. "
   ]
  },
  {
   "cell_type": "code",
   "execution_count": 3,
   "metadata": {
    "colab": {},
    "colab_type": "code",
    "id": "Rxirxw_qoAJa"
   },
   "outputs": [
    {
     "data": {
      "text/html": [
       "<div>\n",
       "<style scoped>\n",
       "    .dataframe tbody tr th:only-of-type {\n",
       "        vertical-align: middle;\n",
       "    }\n",
       "\n",
       "    .dataframe tbody tr th {\n",
       "        vertical-align: top;\n",
       "    }\n",
       "\n",
       "    .dataframe thead th {\n",
       "        text-align: right;\n",
       "    }\n",
       "</style>\n",
       "<table border=\"1\" class=\"dataframe\">\n",
       "  <thead>\n",
       "    <tr style=\"text-align: right;\">\n",
       "      <th></th>\n",
       "      <th>Unnamed: 0</th>\n",
       "      <th>City of London</th>\n",
       "      <th>Barking &amp; Dagenham</th>\n",
       "      <th>Barnet</th>\n",
       "      <th>Bexley</th>\n",
       "      <th>Brent</th>\n",
       "      <th>Bromley</th>\n",
       "      <th>Camden</th>\n",
       "      <th>Croydon</th>\n",
       "      <th>Ealing</th>\n",
       "      <th>...</th>\n",
       "      <th>NORTH WEST</th>\n",
       "      <th>YORKS &amp; THE HUMBER</th>\n",
       "      <th>EAST MIDLANDS</th>\n",
       "      <th>WEST MIDLANDS</th>\n",
       "      <th>EAST OF ENGLAND</th>\n",
       "      <th>LONDON</th>\n",
       "      <th>SOUTH EAST</th>\n",
       "      <th>SOUTH WEST</th>\n",
       "      <th>Unnamed: 47</th>\n",
       "      <th>England</th>\n",
       "    </tr>\n",
       "  </thead>\n",
       "  <tbody>\n",
       "    <tr>\n",
       "      <th>0</th>\n",
       "      <td>NaT</td>\n",
       "      <td>E09000001</td>\n",
       "      <td>E09000002</td>\n",
       "      <td>E09000003</td>\n",
       "      <td>E09000004</td>\n",
       "      <td>E09000005</td>\n",
       "      <td>E09000006</td>\n",
       "      <td>E09000007</td>\n",
       "      <td>E09000008</td>\n",
       "      <td>E09000009</td>\n",
       "      <td>...</td>\n",
       "      <td>E12000002</td>\n",
       "      <td>E12000003</td>\n",
       "      <td>E12000004</td>\n",
       "      <td>E12000005</td>\n",
       "      <td>E12000006</td>\n",
       "      <td>E12000007</td>\n",
       "      <td>E12000008</td>\n",
       "      <td>E12000009</td>\n",
       "      <td>NaN</td>\n",
       "      <td>E92000001</td>\n",
       "    </tr>\n",
       "    <tr>\n",
       "      <th>1</th>\n",
       "      <td>1995-01-01</td>\n",
       "      <td>91448.98487</td>\n",
       "      <td>50460.2266</td>\n",
       "      <td>93284.51832</td>\n",
       "      <td>64958.09036</td>\n",
       "      <td>71306.56698</td>\n",
       "      <td>81671.47692</td>\n",
       "      <td>120932.8881</td>\n",
       "      <td>69158.16225</td>\n",
       "      <td>79885.89069</td>\n",
       "      <td>...</td>\n",
       "      <td>43958.48001</td>\n",
       "      <td>44803.42878</td>\n",
       "      <td>45544.52227</td>\n",
       "      <td>48527.52339</td>\n",
       "      <td>56701.5961</td>\n",
       "      <td>74435.76052</td>\n",
       "      <td>64018.87894</td>\n",
       "      <td>54705.1579</td>\n",
       "      <td>NaN</td>\n",
       "      <td>53202.77128</td>\n",
       "    </tr>\n",
       "    <tr>\n",
       "      <th>2</th>\n",
       "      <td>1995-02-01</td>\n",
       "      <td>82202.77314</td>\n",
       "      <td>51085.77983</td>\n",
       "      <td>93190.16963</td>\n",
       "      <td>64787.92069</td>\n",
       "      <td>72022.26197</td>\n",
       "      <td>81657.55944</td>\n",
       "      <td>119508.8622</td>\n",
       "      <td>68951.09542</td>\n",
       "      <td>80897.06551</td>\n",
       "      <td>...</td>\n",
       "      <td>43925.42289</td>\n",
       "      <td>44528.80721</td>\n",
       "      <td>46051.57066</td>\n",
       "      <td>49341.29029</td>\n",
       "      <td>56593.59475</td>\n",
       "      <td>72777.93709</td>\n",
       "      <td>63715.02399</td>\n",
       "      <td>54356.14843</td>\n",
       "      <td>NaN</td>\n",
       "      <td>53096.1549</td>\n",
       "    </tr>\n",
       "    <tr>\n",
       "      <th>3</th>\n",
       "      <td>1995-03-01</td>\n",
       "      <td>79120.70256</td>\n",
       "      <td>51268.96956</td>\n",
       "      <td>92247.52435</td>\n",
       "      <td>64367.49344</td>\n",
       "      <td>72015.76274</td>\n",
       "      <td>81449.31143</td>\n",
       "      <td>120282.2131</td>\n",
       "      <td>68712.44341</td>\n",
       "      <td>81379.86288</td>\n",
       "      <td>...</td>\n",
       "      <td>44434.8681</td>\n",
       "      <td>45200.46775</td>\n",
       "      <td>45383.82395</td>\n",
       "      <td>49442.17973</td>\n",
       "      <td>56171.18278</td>\n",
       "      <td>73896.84204</td>\n",
       "      <td>64113.60858</td>\n",
       "      <td>53583.07667</td>\n",
       "      <td>NaN</td>\n",
       "      <td>53201.2843</td>\n",
       "    </tr>\n",
       "    <tr>\n",
       "      <th>4</th>\n",
       "      <td>1995-04-01</td>\n",
       "      <td>77101.20804</td>\n",
       "      <td>53133.50526</td>\n",
       "      <td>90762.87492</td>\n",
       "      <td>64277.66881</td>\n",
       "      <td>72965.63094</td>\n",
       "      <td>81124.41227</td>\n",
       "      <td>120097.899</td>\n",
       "      <td>68610.04641</td>\n",
       "      <td>82188.90498</td>\n",
       "      <td>...</td>\n",
       "      <td>44267.7796</td>\n",
       "      <td>45614.34341</td>\n",
       "      <td>46124.23045</td>\n",
       "      <td>49455.93299</td>\n",
       "      <td>56567.89582</td>\n",
       "      <td>74455.28754</td>\n",
       "      <td>64623.22395</td>\n",
       "      <td>54786.01938</td>\n",
       "      <td>NaN</td>\n",
       "      <td>53590.8548</td>\n",
       "    </tr>\n",
       "  </tbody>\n",
       "</table>\n",
       "<p>5 rows × 49 columns</p>\n",
       "</div>"
      ],
      "text/plain": [
       "  Unnamed: 0 City of London Barking & Dagenham       Barnet       Bexley  \\\n",
       "0        NaT      E09000001          E09000002    E09000003    E09000004   \n",
       "1 1995-01-01    91448.98487         50460.2266  93284.51832  64958.09036   \n",
       "2 1995-02-01    82202.77314        51085.77983  93190.16963  64787.92069   \n",
       "3 1995-03-01    79120.70256        51268.96956  92247.52435  64367.49344   \n",
       "4 1995-04-01    77101.20804        53133.50526  90762.87492  64277.66881   \n",
       "\n",
       "         Brent      Bromley       Camden      Croydon       Ealing  ...  \\\n",
       "0    E09000005    E09000006    E09000007    E09000008    E09000009  ...   \n",
       "1  71306.56698  81671.47692  120932.8881  69158.16225  79885.89069  ...   \n",
       "2  72022.26197  81657.55944  119508.8622  68951.09542  80897.06551  ...   \n",
       "3  72015.76274  81449.31143  120282.2131  68712.44341  81379.86288  ...   \n",
       "4  72965.63094  81124.41227   120097.899  68610.04641  82188.90498  ...   \n",
       "\n",
       "    NORTH WEST YORKS & THE HUMBER EAST MIDLANDS WEST MIDLANDS EAST OF ENGLAND  \\\n",
       "0    E12000002          E12000003     E12000004     E12000005       E12000006   \n",
       "1  43958.48001        44803.42878   45544.52227   48527.52339      56701.5961   \n",
       "2  43925.42289        44528.80721   46051.57066   49341.29029     56593.59475   \n",
       "3   44434.8681        45200.46775   45383.82395   49442.17973     56171.18278   \n",
       "4   44267.7796        45614.34341   46124.23045   49455.93299     56567.89582   \n",
       "\n",
       "        LONDON   SOUTH EAST   SOUTH WEST Unnamed: 47      England  \n",
       "0    E12000007    E12000008    E12000009         NaN    E92000001  \n",
       "1  74435.76052  64018.87894   54705.1579         NaN  53202.77128  \n",
       "2  72777.93709  63715.02399  54356.14843         NaN   53096.1549  \n",
       "3  73896.84204  64113.60858  53583.07667         NaN   53201.2843  \n",
       "4  74455.28754  64623.22395  54786.01938         NaN   53590.8548  \n",
       "\n",
       "[5 rows x 49 columns]"
      ]
     },
     "execution_count": 3,
     "metadata": {},
     "output_type": "execute_result"
    }
   ],
   "source": [
    "# Lets check the first few rows of the our dataset to get idea of ways columns and indexes are arranged.\n",
    "properties.head()"
   ]
  },
  {
   "cell_type": "code",
   "execution_count": 4,
   "metadata": {},
   "outputs": [
    {
     "data": {
      "text/plain": [
       "(359, 49)"
      ]
     },
     "execution_count": 4,
     "metadata": {},
     "output_type": "execute_result"
    }
   ],
   "source": [
    "# Lets check the shape to see how many rows,columns are in our dataset\n",
    "# at first glance.. there are 32 boroughs and 49 columns\n",
    "properties.shape"
   ]
  },
  {
   "cell_type": "code",
   "execution_count": 5,
   "metadata": {},
   "outputs": [
    {
     "data": {
      "text/plain": [
       "Index(['Unnamed: 0', 'City of London', 'Barking & Dagenham', 'Barnet',\n",
       "       'Bexley', 'Brent', 'Bromley', 'Camden', 'Croydon', 'Ealing', 'Enfield',\n",
       "       'Greenwich', 'Hackney', 'Hammersmith & Fulham', 'Haringey', 'Harrow',\n",
       "       'Havering', 'Hillingdon', 'Hounslow', 'Islington',\n",
       "       'Kensington & Chelsea', 'Kingston upon Thames', 'Lambeth', 'Lewisham',\n",
       "       'Merton', 'Newham', 'Redbridge', 'Richmond upon Thames', 'Southwark',\n",
       "       'Sutton', 'Tower Hamlets', 'Waltham Forest', 'Wandsworth',\n",
       "       'Westminster', 'Unnamed: 34', 'Inner London', 'Outer London',\n",
       "       'Unnamed: 37', 'NORTH EAST', 'NORTH WEST', 'YORKS & THE HUMBER',\n",
       "       'EAST MIDLANDS', 'WEST MIDLANDS', 'EAST OF ENGLAND', 'LONDON',\n",
       "       'SOUTH EAST', 'SOUTH WEST', 'Unnamed: 47', 'England'],\n",
       "      dtype='object')"
      ]
     },
     "execution_count": 5,
     "metadata": {},
     "output_type": "execute_result"
    }
   ],
   "source": [
    "# Lets get the glance at names of all columns  \n",
    "# Looks like there some unnamed columns \n",
    "properties.columns"
   ]
  },
  {
   "cell_type": "code",
   "execution_count": 6,
   "metadata": {},
   "outputs": [
    {
     "name": "stdout",
     "output_type": "stream",
     "text": [
      "[0, 1, 2, 3, 4, 5, 6, 7, 8, 9, 10, 11, 12, 13, 14, 15, 16, 17, 18, 19, 20, 21, 22, 23, 24, 25, 26, 27, 28, 29, 30, 31, 32, 33, 34, 35, 36, 37, 38, 39, 40, 41, 42, 43, 44, 45, 46, 47, 48, 49, 50, 51, 52, 53, 54, 55, 56, 57, 58, 59, 60, 61, 62, 63, 64, 65, 66, 67, 68, 69, 70, 71, 72, 73, 74, 75, 76, 77, 78, 79, 80, 81, 82, 83, 84, 85, 86, 87, 88, 89, 90, 91, 92, 93, 94, 95, 96, 97, 98, 99, 100, 101, 102, 103, 104, 105, 106, 107, 108, 109, 110, 111, 112, 113, 114, 115, 116, 117, 118, 119, 120, 121, 122, 123, 124, 125, 126, 127, 128, 129, 130, 131, 132, 133, 134, 135, 136, 137, 138, 139, 140, 141, 142, 143, 144, 145, 146, 147, 148, 149, 150, 151, 152, 153, 154, 155, 156, 157, 158, 159, 160, 161, 162, 163, 164, 165, 166, 167, 168, 169, 170, 171, 172, 173, 174, 175, 176, 177, 178, 179, 180, 181, 182, 183, 184, 185, 186, 187, 188, 189, 190, 191, 192, 193, 194, 195, 196, 197, 198, 199, 200, 201, 202, 203, 204, 205, 206, 207, 208, 209, 210, 211, 212, 213, 214, 215, 216, 217, 218, 219, 220, 221, 222, 223, 224, 225, 226, 227, 228, 229, 230, 231, 232, 233, 234, 235, 236, 237, 238, 239, 240, 241, 242, 243, 244, 245, 246, 247, 248, 249, 250, 251, 252, 253, 254, 255, 256, 257, 258, 259, 260, 261, 262, 263, 264, 265, 266, 267, 268, 269, 270, 271, 272, 273, 274, 275, 276, 277, 278, 279, 280, 281, 282, 283, 284, 285, 286, 287, 288, 289, 290, 291, 292, 293, 294, 295, 296, 297, 298, 299, 300, 301, 302, 303, 304, 305, 306, 307, 308, 309, 310, 311, 312, 313, 314, 315, 316, 317, 318, 319, 320, 321, 322, 323, 324, 325, 326, 327, 328, 329, 330, 331, 332, 333, 334, 335, 336, 337, 338, 339, 340, 341, 342, 343, 344, 345, 346, 347, 348, 349, 350, 351, 352, 353, 354, 355, 356, 357, 358]\n"
     ]
    }
   ],
   "source": [
    "# Just want to check if indexes are in proper shape\n",
    "print(properties.index.to_list())"
   ]
  },
  {
   "cell_type": "code",
   "execution_count": 7,
   "metadata": {},
   "outputs": [
    {
     "data": {
      "text/plain": [
       "0            NaT\n",
       "1     1995-01-01\n",
       "2     1995-02-01\n",
       "3     1995-03-01\n",
       "4     1995-04-01\n",
       "         ...    \n",
       "354   2024-06-01\n",
       "355   2024-07-01\n",
       "356   2024-08-01\n",
       "357   2024-09-01\n",
       "358   2024-10-01\n",
       "Name: Unnamed: 0, Length: 359, dtype: datetime64[ns]"
      ]
     },
     "execution_count": 7,
     "metadata": {},
     "output_type": "execute_result"
    }
   ],
   "source": [
    "# curious about first columns as it has null value on first row.\n",
    "properties[\"Unnamed: 0\"]"
   ]
  },
  {
   "cell_type": "code",
   "execution_count": 8,
   "metadata": {},
   "outputs": [
    {
     "data": {
      "text/plain": [
       "0     NaN\n",
       "1     NaN\n",
       "2     NaN\n",
       "3     NaN\n",
       "4     NaN\n",
       "       ..\n",
       "354   NaN\n",
       "355   NaN\n",
       "356   NaN\n",
       "357   NaN\n",
       "358   NaN\n",
       "Name: Unnamed: 34, Length: 359, dtype: float64"
      ]
     },
     "execution_count": 8,
     "metadata": {},
     "output_type": "execute_result"
    }
   ],
   "source": [
    "# Other unnamed columns has multiple null values\n",
    "properties[\"Unnamed: 34\"]"
   ]
  },
  {
   "cell_type": "code",
   "execution_count": 9,
   "metadata": {},
   "outputs": [
    {
     "data": {
      "text/plain": [
       "Unnamed: 0                1\n",
       "City of London            0\n",
       "Barking & Dagenham        0\n",
       "Barnet                    0\n",
       "Bexley                    0\n",
       "Brent                     0\n",
       "Bromley                   0\n",
       "Camden                    0\n",
       "Croydon                   0\n",
       "Ealing                    0\n",
       "Enfield                   0\n",
       "Greenwich                 0\n",
       "Hackney                   0\n",
       "Hammersmith & Fulham      0\n",
       "Haringey                  0\n",
       "Harrow                    0\n",
       "Havering                  0\n",
       "Hillingdon                0\n",
       "Hounslow                  0\n",
       "Islington                 0\n",
       "Kensington & Chelsea      0\n",
       "Kingston upon Thames      0\n",
       "Lambeth                   0\n",
       "Lewisham                  0\n",
       "Merton                    0\n",
       "Newham                    0\n",
       "Redbridge                 0\n",
       "Richmond upon Thames      0\n",
       "Southwark                 0\n",
       "Sutton                    0\n",
       "Tower Hamlets             0\n",
       "Waltham Forest            0\n",
       "Wandsworth                0\n",
       "Westminster               0\n",
       "Unnamed: 34             359\n",
       "Inner London              0\n",
       "Outer London              0\n",
       "Unnamed: 37             359\n",
       "NORTH EAST                0\n",
       "NORTH WEST                0\n",
       "YORKS & THE HUMBER        0\n",
       "EAST MIDLANDS             0\n",
       "WEST MIDLANDS             0\n",
       "EAST OF ENGLAND           0\n",
       "LONDON                    0\n",
       "SOUTH EAST                0\n",
       "SOUTH WEST                0\n",
       "Unnamed: 47             359\n",
       "England                   0\n",
       "dtype: int64"
      ]
     },
     "execution_count": 9,
     "metadata": {},
     "output_type": "execute_result"
    }
   ],
   "source": [
    "# Lets check counts of null values in each columns\n",
    "properties.isna().sum()\n",
    "\n",
    "#problem: since this dataset have multiple columns, I am not able to see all the result without opening scrollable element\n",
    "#possible solution: Is there anyway I can get null value count of all the columns that have 1 or more null values, ignoring columns with No null value."
   ]
  },
  {
   "cell_type": "code",
   "execution_count": 10,
   "metadata": {},
   "outputs": [
    {
     "data": {
      "text/plain": [
       "Unnamed: 0       1\n",
       "Unnamed: 34    359\n",
       "Unnamed: 37    359\n",
       "Unnamed: 47    359\n",
       "dtype: int64"
      ]
     },
     "execution_count": 10,
     "metadata": {},
     "output_type": "execute_result"
    }
   ],
   "source": [
    "# Assistance from Stackoverflow : there is a way to get numbers of columns with null values\n",
    "null_count = properties.isna().sum()  # will give series of null value counts\n",
    "columns_with_null = null_count[null_count > 0]  # filter the series without counts > 0 \n",
    "columns_with_null\n",
    "\n",
    "# on evaluation looks like 3 columns have all null values "
   ]
  },
  {
   "cell_type": "code",
   "execution_count": 11,
   "metadata": {},
   "outputs": [
    {
     "data": {
      "text/plain": [
       "['Unnamed: 0', 'Unnamed: 34', 'Unnamed: 37', 'Unnamed: 47']"
      ]
     },
     "execution_count": 11,
     "metadata": {},
     "output_type": "execute_result"
    }
   ],
   "source": [
    "# lets create the list of all columns with null value to use it later.\n",
    "columns_with_null_list = columns_with_null.index.to_list()\n",
    "columns_with_null_list"
   ]
  },
  {
   "cell_type": "markdown",
   "metadata": {
    "colab_type": "text",
    "id": "tE9Sqt9-oAta"
   },
   "source": [
    "**2.2. Cleaning the data**\n",
    "\n",
    "You might find you need to transpose your dataframe, check out what its row indexes are, and reset the index. You  also might find you need to assign the values of the first row to your column headings  . (Hint: recall the .columns feature of DataFrames, as well as the iloc[] method).\n",
    "\n",
    "Don't be afraid to use StackOverflow for help  with this."
   ]
  },
  {
   "cell_type": "code",
   "execution_count": 12,
   "metadata": {},
   "outputs": [
    {
     "data": {
      "text/html": [
       "<div>\n",
       "<style scoped>\n",
       "    .dataframe tbody tr th:only-of-type {\n",
       "        vertical-align: middle;\n",
       "    }\n",
       "\n",
       "    .dataframe tbody tr th {\n",
       "        vertical-align: top;\n",
       "    }\n",
       "\n",
       "    .dataframe thead th {\n",
       "        text-align: right;\n",
       "    }\n",
       "</style>\n",
       "<table border=\"1\" class=\"dataframe\">\n",
       "  <thead>\n",
       "    <tr style=\"text-align: right;\">\n",
       "      <th></th>\n",
       "      <th>City of London</th>\n",
       "      <th>Barking &amp; Dagenham</th>\n",
       "      <th>Barnet</th>\n",
       "      <th>Bexley</th>\n",
       "      <th>Brent</th>\n",
       "      <th>Bromley</th>\n",
       "      <th>Camden</th>\n",
       "      <th>Croydon</th>\n",
       "      <th>Ealing</th>\n",
       "      <th>Enfield</th>\n",
       "      <th>...</th>\n",
       "      <th>NORTH WEST</th>\n",
       "      <th>YORKS &amp; THE HUMBER</th>\n",
       "      <th>EAST MIDLANDS</th>\n",
       "      <th>WEST MIDLANDS</th>\n",
       "      <th>EAST OF ENGLAND</th>\n",
       "      <th>LONDON</th>\n",
       "      <th>SOUTH EAST</th>\n",
       "      <th>SOUTH WEST</th>\n",
       "      <th>Unnamed: 47</th>\n",
       "      <th>England</th>\n",
       "    </tr>\n",
       "    <tr>\n",
       "      <th>Unnamed: 0</th>\n",
       "      <th></th>\n",
       "      <th></th>\n",
       "      <th></th>\n",
       "      <th></th>\n",
       "      <th></th>\n",
       "      <th></th>\n",
       "      <th></th>\n",
       "      <th></th>\n",
       "      <th></th>\n",
       "      <th></th>\n",
       "      <th></th>\n",
       "      <th></th>\n",
       "      <th></th>\n",
       "      <th></th>\n",
       "      <th></th>\n",
       "      <th></th>\n",
       "      <th></th>\n",
       "      <th></th>\n",
       "      <th></th>\n",
       "      <th></th>\n",
       "      <th></th>\n",
       "    </tr>\n",
       "  </thead>\n",
       "  <tbody>\n",
       "    <tr>\n",
       "      <th>NaT</th>\n",
       "      <td>E09000001</td>\n",
       "      <td>E09000002</td>\n",
       "      <td>E09000003</td>\n",
       "      <td>E09000004</td>\n",
       "      <td>E09000005</td>\n",
       "      <td>E09000006</td>\n",
       "      <td>E09000007</td>\n",
       "      <td>E09000008</td>\n",
       "      <td>E09000009</td>\n",
       "      <td>E09000010</td>\n",
       "      <td>...</td>\n",
       "      <td>E12000002</td>\n",
       "      <td>E12000003</td>\n",
       "      <td>E12000004</td>\n",
       "      <td>E12000005</td>\n",
       "      <td>E12000006</td>\n",
       "      <td>E12000007</td>\n",
       "      <td>E12000008</td>\n",
       "      <td>E12000009</td>\n",
       "      <td>NaN</td>\n",
       "      <td>E92000001</td>\n",
       "    </tr>\n",
       "    <tr>\n",
       "      <th>1995-01-01</th>\n",
       "      <td>91448.98487</td>\n",
       "      <td>50460.2266</td>\n",
       "      <td>93284.51832</td>\n",
       "      <td>64958.09036</td>\n",
       "      <td>71306.56698</td>\n",
       "      <td>81671.47692</td>\n",
       "      <td>120932.8881</td>\n",
       "      <td>69158.16225</td>\n",
       "      <td>79885.89069</td>\n",
       "      <td>72514.69096</td>\n",
       "      <td>...</td>\n",
       "      <td>43958.48001</td>\n",
       "      <td>44803.42878</td>\n",
       "      <td>45544.52227</td>\n",
       "      <td>48527.52339</td>\n",
       "      <td>56701.5961</td>\n",
       "      <td>74435.76052</td>\n",
       "      <td>64018.87894</td>\n",
       "      <td>54705.1579</td>\n",
       "      <td>NaN</td>\n",
       "      <td>53202.77128</td>\n",
       "    </tr>\n",
       "    <tr>\n",
       "      <th>1995-02-01</th>\n",
       "      <td>82202.77314</td>\n",
       "      <td>51085.77983</td>\n",
       "      <td>93190.16963</td>\n",
       "      <td>64787.92069</td>\n",
       "      <td>72022.26197</td>\n",
       "      <td>81657.55944</td>\n",
       "      <td>119508.8622</td>\n",
       "      <td>68951.09542</td>\n",
       "      <td>80897.06551</td>\n",
       "      <td>73155.19746</td>\n",
       "      <td>...</td>\n",
       "      <td>43925.42289</td>\n",
       "      <td>44528.80721</td>\n",
       "      <td>46051.57066</td>\n",
       "      <td>49341.29029</td>\n",
       "      <td>56593.59475</td>\n",
       "      <td>72777.93709</td>\n",
       "      <td>63715.02399</td>\n",
       "      <td>54356.14843</td>\n",
       "      <td>NaN</td>\n",
       "      <td>53096.1549</td>\n",
       "    </tr>\n",
       "    <tr>\n",
       "      <th>1995-03-01</th>\n",
       "      <td>79120.70256</td>\n",
       "      <td>51268.96956</td>\n",
       "      <td>92247.52435</td>\n",
       "      <td>64367.49344</td>\n",
       "      <td>72015.76274</td>\n",
       "      <td>81449.31143</td>\n",
       "      <td>120282.2131</td>\n",
       "      <td>68712.44341</td>\n",
       "      <td>81379.86288</td>\n",
       "      <td>72190.44144</td>\n",
       "      <td>...</td>\n",
       "      <td>44434.8681</td>\n",
       "      <td>45200.46775</td>\n",
       "      <td>45383.82395</td>\n",
       "      <td>49442.17973</td>\n",
       "      <td>56171.18278</td>\n",
       "      <td>73896.84204</td>\n",
       "      <td>64113.60858</td>\n",
       "      <td>53583.07667</td>\n",
       "      <td>NaN</td>\n",
       "      <td>53201.2843</td>\n",
       "    </tr>\n",
       "    <tr>\n",
       "      <th>1995-04-01</th>\n",
       "      <td>77101.20804</td>\n",
       "      <td>53133.50526</td>\n",
       "      <td>90762.87492</td>\n",
       "      <td>64277.66881</td>\n",
       "      <td>72965.63094</td>\n",
       "      <td>81124.41227</td>\n",
       "      <td>120097.899</td>\n",
       "      <td>68610.04641</td>\n",
       "      <td>82188.90498</td>\n",
       "      <td>71442.92235</td>\n",
       "      <td>...</td>\n",
       "      <td>44267.7796</td>\n",
       "      <td>45614.34341</td>\n",
       "      <td>46124.23045</td>\n",
       "      <td>49455.93299</td>\n",
       "      <td>56567.89582</td>\n",
       "      <td>74455.28754</td>\n",
       "      <td>64623.22395</td>\n",
       "      <td>54786.01938</td>\n",
       "      <td>NaN</td>\n",
       "      <td>53590.8548</td>\n",
       "    </tr>\n",
       "  </tbody>\n",
       "</table>\n",
       "<p>5 rows × 48 columns</p>\n",
       "</div>"
      ],
      "text/plain": [
       "           City of London Barking & Dagenham       Barnet       Bexley  \\\n",
       "Unnamed: 0                                                               \n",
       "NaT             E09000001          E09000002    E09000003    E09000004   \n",
       "1995-01-01    91448.98487         50460.2266  93284.51832  64958.09036   \n",
       "1995-02-01    82202.77314        51085.77983  93190.16963  64787.92069   \n",
       "1995-03-01    79120.70256        51268.96956  92247.52435  64367.49344   \n",
       "1995-04-01    77101.20804        53133.50526  90762.87492  64277.66881   \n",
       "\n",
       "                  Brent      Bromley       Camden      Croydon       Ealing  \\\n",
       "Unnamed: 0                                                                    \n",
       "NaT           E09000005    E09000006    E09000007    E09000008    E09000009   \n",
       "1995-01-01  71306.56698  81671.47692  120932.8881  69158.16225  79885.89069   \n",
       "1995-02-01  72022.26197  81657.55944  119508.8622  68951.09542  80897.06551   \n",
       "1995-03-01  72015.76274  81449.31143  120282.2131  68712.44341  81379.86288   \n",
       "1995-04-01  72965.63094  81124.41227   120097.899  68610.04641  82188.90498   \n",
       "\n",
       "                Enfield  ...   NORTH WEST YORKS & THE HUMBER EAST MIDLANDS  \\\n",
       "Unnamed: 0               ...                                                 \n",
       "NaT           E09000010  ...    E12000002          E12000003     E12000004   \n",
       "1995-01-01  72514.69096  ...  43958.48001        44803.42878   45544.52227   \n",
       "1995-02-01  73155.19746  ...  43925.42289        44528.80721   46051.57066   \n",
       "1995-03-01  72190.44144  ...   44434.8681        45200.46775   45383.82395   \n",
       "1995-04-01  71442.92235  ...   44267.7796        45614.34341   46124.23045   \n",
       "\n",
       "           WEST MIDLANDS EAST OF ENGLAND       LONDON   SOUTH EAST  \\\n",
       "Unnamed: 0                                                           \n",
       "NaT            E12000005       E12000006    E12000007    E12000008   \n",
       "1995-01-01   48527.52339      56701.5961  74435.76052  64018.87894   \n",
       "1995-02-01   49341.29029     56593.59475  72777.93709  63715.02399   \n",
       "1995-03-01   49442.17973     56171.18278  73896.84204  64113.60858   \n",
       "1995-04-01   49455.93299     56567.89582  74455.28754  64623.22395   \n",
       "\n",
       "             SOUTH WEST Unnamed: 47      England  \n",
       "Unnamed: 0                                        \n",
       "NaT           E12000009         NaN    E92000001  \n",
       "1995-01-01   54705.1579         NaN  53202.77128  \n",
       "1995-02-01  54356.14843         NaN   53096.1549  \n",
       "1995-03-01  53583.07667         NaN   53201.2843  \n",
       "1995-04-01  54786.01938         NaN   53590.8548  \n",
       "\n",
       "[5 rows x 48 columns]"
      ]
     },
     "execution_count": 12,
     "metadata": {},
     "output_type": "execute_result"
    }
   ],
   "source": [
    "# TO begin cleaning our dataset to prepare of analysis, lets set dates as indexes to later transpose the dataset\n",
    "\n",
    "properties_1 = properties.set_index(\"Unnamed: 0\",drop=True)\n",
    "properties_1.head()"
   ]
  },
  {
   "cell_type": "code",
   "execution_count": 13,
   "metadata": {
    "colab": {},
    "colab_type": "code",
    "id": "cdAu1A3YoH_r"
   },
   "outputs": [
    {
     "data": {
      "text/html": [
       "<div>\n",
       "<style scoped>\n",
       "    .dataframe tbody tr th:only-of-type {\n",
       "        vertical-align: middle;\n",
       "    }\n",
       "\n",
       "    .dataframe tbody tr th {\n",
       "        vertical-align: top;\n",
       "    }\n",
       "\n",
       "    .dataframe thead th {\n",
       "        text-align: right;\n",
       "    }\n",
       "</style>\n",
       "<table border=\"1\" class=\"dataframe\">\n",
       "  <thead>\n",
       "    <tr style=\"text-align: right;\">\n",
       "      <th>Unnamed: 0</th>\n",
       "      <th>NaT</th>\n",
       "      <th>1995-01-01</th>\n",
       "      <th>1995-02-01</th>\n",
       "      <th>1995-03-01</th>\n",
       "      <th>1995-04-01</th>\n",
       "      <th>1995-05-01</th>\n",
       "      <th>1995-06-01</th>\n",
       "      <th>1995-07-01</th>\n",
       "      <th>1995-08-01</th>\n",
       "      <th>1995-09-01</th>\n",
       "      <th>...</th>\n",
       "      <th>2024-01-01</th>\n",
       "      <th>2024-02-01</th>\n",
       "      <th>2024-03-01</th>\n",
       "      <th>2024-04-01</th>\n",
       "      <th>2024-05-01</th>\n",
       "      <th>2024-06-01</th>\n",
       "      <th>2024-07-01</th>\n",
       "      <th>2024-08-01</th>\n",
       "      <th>2024-09-01</th>\n",
       "      <th>2024-10-01</th>\n",
       "    </tr>\n",
       "  </thead>\n",
       "  <tbody>\n",
       "    <tr>\n",
       "      <th>City of London</th>\n",
       "      <td>E09000001</td>\n",
       "      <td>91448.98487</td>\n",
       "      <td>82202.77314</td>\n",
       "      <td>79120.70256</td>\n",
       "      <td>77101.20804</td>\n",
       "      <td>84409.14932</td>\n",
       "      <td>94900.51244</td>\n",
       "      <td>110128.0423</td>\n",
       "      <td>112329.4376</td>\n",
       "      <td>104473.1096</td>\n",
       "      <td>...</td>\n",
       "      <td>838041</td>\n",
       "      <td>840027</td>\n",
       "      <td>831409</td>\n",
       "      <td>810395</td>\n",
       "      <td>814092</td>\n",
       "      <td>809408</td>\n",
       "      <td>749503</td>\n",
       "      <td>756112</td>\n",
       "      <td>726259</td>\n",
       "      <td>716754</td>\n",
       "    </tr>\n",
       "    <tr>\n",
       "      <th>Barking &amp; Dagenham</th>\n",
       "      <td>E09000002</td>\n",
       "      <td>50460.2266</td>\n",
       "      <td>51085.77983</td>\n",
       "      <td>51268.96956</td>\n",
       "      <td>53133.50526</td>\n",
       "      <td>53042.24852</td>\n",
       "      <td>53700.34831</td>\n",
       "      <td>52113.12157</td>\n",
       "      <td>52232.19868</td>\n",
       "      <td>51471.61353</td>\n",
       "      <td>...</td>\n",
       "      <td>329413</td>\n",
       "      <td>328665</td>\n",
       "      <td>333559</td>\n",
       "      <td>335332</td>\n",
       "      <td>336382</td>\n",
       "      <td>334095</td>\n",
       "      <td>341625</td>\n",
       "      <td>337077</td>\n",
       "      <td>338047</td>\n",
       "      <td>338137</td>\n",
       "    </tr>\n",
       "    <tr>\n",
       "      <th>Barnet</th>\n",
       "      <td>E09000003</td>\n",
       "      <td>93284.51832</td>\n",
       "      <td>93190.16963</td>\n",
       "      <td>92247.52435</td>\n",
       "      <td>90762.87492</td>\n",
       "      <td>90258.00033</td>\n",
       "      <td>90107.23471</td>\n",
       "      <td>91441.24768</td>\n",
       "      <td>92361.31512</td>\n",
       "      <td>93273.12245</td>\n",
       "      <td>...</td>\n",
       "      <td>575091</td>\n",
       "      <td>562453</td>\n",
       "      <td>569243</td>\n",
       "      <td>573831</td>\n",
       "      <td>581268</td>\n",
       "      <td>586101</td>\n",
       "      <td>589731</td>\n",
       "      <td>595477</td>\n",
       "      <td>589992</td>\n",
       "      <td>586982</td>\n",
       "    </tr>\n",
       "    <tr>\n",
       "      <th>Bexley</th>\n",
       "      <td>E09000004</td>\n",
       "      <td>64958.09036</td>\n",
       "      <td>64787.92069</td>\n",
       "      <td>64367.49344</td>\n",
       "      <td>64277.66881</td>\n",
       "      <td>63997.13588</td>\n",
       "      <td>64252.32335</td>\n",
       "      <td>63722.70055</td>\n",
       "      <td>64432.60005</td>\n",
       "      <td>64509.54767</td>\n",
       "      <td>...</td>\n",
       "      <td>393023</td>\n",
       "      <td>393050</td>\n",
       "      <td>394225</td>\n",
       "      <td>396993</td>\n",
       "      <td>397897</td>\n",
       "      <td>402775</td>\n",
       "      <td>404066</td>\n",
       "      <td>408244</td>\n",
       "      <td>409354</td>\n",
       "      <td>409969</td>\n",
       "    </tr>\n",
       "    <tr>\n",
       "      <th>Brent</th>\n",
       "      <td>E09000005</td>\n",
       "      <td>71306.56698</td>\n",
       "      <td>72022.26197</td>\n",
       "      <td>72015.76274</td>\n",
       "      <td>72965.63094</td>\n",
       "      <td>73704.04743</td>\n",
       "      <td>74310.48167</td>\n",
       "      <td>74127.03788</td>\n",
       "      <td>73547.0411</td>\n",
       "      <td>73789.54287</td>\n",
       "      <td>...</td>\n",
       "      <td>519978</td>\n",
       "      <td>524873</td>\n",
       "      <td>515137</td>\n",
       "      <td>503053</td>\n",
       "      <td>506044</td>\n",
       "      <td>532356</td>\n",
       "      <td>530953</td>\n",
       "      <td>547131</td>\n",
       "      <td>544935</td>\n",
       "      <td>553670</td>\n",
       "    </tr>\n",
       "  </tbody>\n",
       "</table>\n",
       "<p>5 rows × 359 columns</p>\n",
       "</div>"
      ],
      "text/plain": [
       "Unnamed: 0                NaT   1995-01-01   1995-02-01   1995-03-01  \\\n",
       "City of London      E09000001  91448.98487  82202.77314  79120.70256   \n",
       "Barking & Dagenham  E09000002   50460.2266  51085.77983  51268.96956   \n",
       "Barnet              E09000003  93284.51832  93190.16963  92247.52435   \n",
       "Bexley              E09000004  64958.09036  64787.92069  64367.49344   \n",
       "Brent               E09000005  71306.56698  72022.26197  72015.76274   \n",
       "\n",
       "Unnamed: 0           1995-04-01   1995-05-01   1995-06-01   1995-07-01  \\\n",
       "City of London      77101.20804  84409.14932  94900.51244  110128.0423   \n",
       "Barking & Dagenham  53133.50526  53042.24852  53700.34831  52113.12157   \n",
       "Barnet              90762.87492  90258.00033  90107.23471  91441.24768   \n",
       "Bexley              64277.66881  63997.13588  64252.32335  63722.70055   \n",
       "Brent               72965.63094  73704.04743  74310.48167  74127.03788   \n",
       "\n",
       "Unnamed: 0           1995-08-01   1995-09-01  ... 2024-01-01 2024-02-01  \\\n",
       "City of London      112329.4376  104473.1096  ...     838041     840027   \n",
       "Barking & Dagenham  52232.19868  51471.61353  ...     329413     328665   \n",
       "Barnet              92361.31512  93273.12245  ...     575091     562453   \n",
       "Bexley              64432.60005  64509.54767  ...     393023     393050   \n",
       "Brent                73547.0411  73789.54287  ...     519978     524873   \n",
       "\n",
       "Unnamed: 0         2024-03-01 2024-04-01 2024-05-01 2024-06-01 2024-07-01  \\\n",
       "City of London         831409     810395     814092     809408     749503   \n",
       "Barking & Dagenham     333559     335332     336382     334095     341625   \n",
       "Barnet                 569243     573831     581268     586101     589731   \n",
       "Bexley                 394225     396993     397897     402775     404066   \n",
       "Brent                  515137     503053     506044     532356     530953   \n",
       "\n",
       "Unnamed: 0         2024-08-01 2024-09-01 2024-10-01  \n",
       "City of London         756112     726259     716754  \n",
       "Barking & Dagenham     337077     338047     338137  \n",
       "Barnet                 595477     589992     586982  \n",
       "Bexley                 408244     409354     409969  \n",
       "Brent                  547131     544935     553670  \n",
       "\n",
       "[5 rows x 359 columns]"
      ]
     },
     "execution_count": 13,
     "metadata": {},
     "output_type": "execute_result"
    }
   ],
   "source": [
    "# transpose the dataset so borough names becomes the indexes and dates becomes columns\n",
    "# lets assign it to different dataset so we always have access to previous dataset, just in case we loose current dataset\n",
    "properties_transposed = properties_1.T\n",
    "\n",
    "properties_transposed.head()"
   ]
  },
  {
   "cell_type": "code",
   "execution_count": 14,
   "metadata": {},
   "outputs": [
    {
     "data": {
      "text/plain": [
       "Unnamed: 0\n",
       "NaT           3\n",
       "1995-01-01    3\n",
       "1995-02-01    3\n",
       "1995-03-01    3\n",
       "1995-04-01    3\n",
       "             ..\n",
       "2024-06-01    3\n",
       "2024-07-01    3\n",
       "2024-08-01    3\n",
       "2024-09-01    3\n",
       "2024-10-01    3\n",
       "Length: 359, dtype: int64"
      ]
     },
     "execution_count": 14,
     "metadata": {},
     "output_type": "execute_result"
    }
   ],
   "source": [
    "properties_transposed.isna().sum()\n",
    "# all rows have 3 null values representing 3 columns in original dataset"
   ]
  },
  {
   "cell_type": "code",
   "execution_count": 15,
   "metadata": {},
   "outputs": [
    {
     "data": {
      "text/html": [
       "<div>\n",
       "<style scoped>\n",
       "    .dataframe tbody tr th:only-of-type {\n",
       "        vertical-align: middle;\n",
       "    }\n",
       "\n",
       "    .dataframe tbody tr th {\n",
       "        vertical-align: top;\n",
       "    }\n",
       "\n",
       "    .dataframe thead th {\n",
       "        text-align: right;\n",
       "    }\n",
       "</style>\n",
       "<table border=\"1\" class=\"dataframe\">\n",
       "  <thead>\n",
       "    <tr style=\"text-align: right;\">\n",
       "      <th></th>\n",
       "      <th>1995-01-01</th>\n",
       "      <th>1995-02-01</th>\n",
       "      <th>1995-03-01</th>\n",
       "      <th>1995-04-01</th>\n",
       "      <th>1995-05-01</th>\n",
       "      <th>1995-06-01</th>\n",
       "      <th>1995-07-01</th>\n",
       "      <th>1995-08-01</th>\n",
       "      <th>1995-09-01</th>\n",
       "      <th>1995-10-01</th>\n",
       "      <th>...</th>\n",
       "      <th>2024-01-01</th>\n",
       "      <th>2024-02-01</th>\n",
       "      <th>2024-03-01</th>\n",
       "      <th>2024-04-01</th>\n",
       "      <th>2024-05-01</th>\n",
       "      <th>2024-06-01</th>\n",
       "      <th>2024-07-01</th>\n",
       "      <th>2024-08-01</th>\n",
       "      <th>2024-09-01</th>\n",
       "      <th>2024-10-01</th>\n",
       "    </tr>\n",
       "  </thead>\n",
       "  <tbody>\n",
       "    <tr>\n",
       "      <th>City of London</th>\n",
       "      <td>91448.98487</td>\n",
       "      <td>82202.77314</td>\n",
       "      <td>79120.70256</td>\n",
       "      <td>77101.20804</td>\n",
       "      <td>84409.14932</td>\n",
       "      <td>94900.51244</td>\n",
       "      <td>110128.0423</td>\n",
       "      <td>112329.4376</td>\n",
       "      <td>104473.1096</td>\n",
       "      <td>108038.1181</td>\n",
       "      <td>...</td>\n",
       "      <td>838041</td>\n",
       "      <td>840027</td>\n",
       "      <td>831409</td>\n",
       "      <td>810395</td>\n",
       "      <td>814092</td>\n",
       "      <td>809408</td>\n",
       "      <td>749503</td>\n",
       "      <td>756112</td>\n",
       "      <td>726259</td>\n",
       "      <td>716754</td>\n",
       "    </tr>\n",
       "    <tr>\n",
       "      <th>Barking &amp; Dagenham</th>\n",
       "      <td>50460.2266</td>\n",
       "      <td>51085.77983</td>\n",
       "      <td>51268.96956</td>\n",
       "      <td>53133.50526</td>\n",
       "      <td>53042.24852</td>\n",
       "      <td>53700.34831</td>\n",
       "      <td>52113.12157</td>\n",
       "      <td>52232.19868</td>\n",
       "      <td>51471.61353</td>\n",
       "      <td>51513.7576</td>\n",
       "      <td>...</td>\n",
       "      <td>329413</td>\n",
       "      <td>328665</td>\n",
       "      <td>333559</td>\n",
       "      <td>335332</td>\n",
       "      <td>336382</td>\n",
       "      <td>334095</td>\n",
       "      <td>341625</td>\n",
       "      <td>337077</td>\n",
       "      <td>338047</td>\n",
       "      <td>338137</td>\n",
       "    </tr>\n",
       "    <tr>\n",
       "      <th>Barnet</th>\n",
       "      <td>93284.51832</td>\n",
       "      <td>93190.16963</td>\n",
       "      <td>92247.52435</td>\n",
       "      <td>90762.87492</td>\n",
       "      <td>90258.00033</td>\n",
       "      <td>90107.23471</td>\n",
       "      <td>91441.24768</td>\n",
       "      <td>92361.31512</td>\n",
       "      <td>93273.12245</td>\n",
       "      <td>92567.38498</td>\n",
       "      <td>...</td>\n",
       "      <td>575091</td>\n",
       "      <td>562453</td>\n",
       "      <td>569243</td>\n",
       "      <td>573831</td>\n",
       "      <td>581268</td>\n",
       "      <td>586101</td>\n",
       "      <td>589731</td>\n",
       "      <td>595477</td>\n",
       "      <td>589992</td>\n",
       "      <td>586982</td>\n",
       "    </tr>\n",
       "    <tr>\n",
       "      <th>Bexley</th>\n",
       "      <td>64958.09036</td>\n",
       "      <td>64787.92069</td>\n",
       "      <td>64367.49344</td>\n",
       "      <td>64277.66881</td>\n",
       "      <td>63997.13588</td>\n",
       "      <td>64252.32335</td>\n",
       "      <td>63722.70055</td>\n",
       "      <td>64432.60005</td>\n",
       "      <td>64509.54767</td>\n",
       "      <td>64529.93725</td>\n",
       "      <td>...</td>\n",
       "      <td>393023</td>\n",
       "      <td>393050</td>\n",
       "      <td>394225</td>\n",
       "      <td>396993</td>\n",
       "      <td>397897</td>\n",
       "      <td>402775</td>\n",
       "      <td>404066</td>\n",
       "      <td>408244</td>\n",
       "      <td>409354</td>\n",
       "      <td>409969</td>\n",
       "    </tr>\n",
       "    <tr>\n",
       "      <th>Brent</th>\n",
       "      <td>71306.56698</td>\n",
       "      <td>72022.26197</td>\n",
       "      <td>72015.76274</td>\n",
       "      <td>72965.63094</td>\n",
       "      <td>73704.04743</td>\n",
       "      <td>74310.48167</td>\n",
       "      <td>74127.03788</td>\n",
       "      <td>73547.0411</td>\n",
       "      <td>73789.54287</td>\n",
       "      <td>73264.05385</td>\n",
       "      <td>...</td>\n",
       "      <td>519978</td>\n",
       "      <td>524873</td>\n",
       "      <td>515137</td>\n",
       "      <td>503053</td>\n",
       "      <td>506044</td>\n",
       "      <td>532356</td>\n",
       "      <td>530953</td>\n",
       "      <td>547131</td>\n",
       "      <td>544935</td>\n",
       "      <td>553670</td>\n",
       "    </tr>\n",
       "  </tbody>\n",
       "</table>\n",
       "<p>5 rows × 358 columns</p>\n",
       "</div>"
      ],
      "text/plain": [
       "                     1995-01-01   1995-02-01   1995-03-01   1995-04-01  \\\n",
       "City of London      91448.98487  82202.77314  79120.70256  77101.20804   \n",
       "Barking & Dagenham   50460.2266  51085.77983  51268.96956  53133.50526   \n",
       "Barnet              93284.51832  93190.16963  92247.52435  90762.87492   \n",
       "Bexley              64958.09036  64787.92069  64367.49344  64277.66881   \n",
       "Brent               71306.56698  72022.26197  72015.76274  72965.63094   \n",
       "\n",
       "                     1995-05-01   1995-06-01   1995-07-01   1995-08-01  \\\n",
       "City of London      84409.14932  94900.51244  110128.0423  112329.4376   \n",
       "Barking & Dagenham  53042.24852  53700.34831  52113.12157  52232.19868   \n",
       "Barnet              90258.00033  90107.23471  91441.24768  92361.31512   \n",
       "Bexley              63997.13588  64252.32335  63722.70055  64432.60005   \n",
       "Brent               73704.04743  74310.48167  74127.03788   73547.0411   \n",
       "\n",
       "                     1995-09-01   1995-10-01  ... 2024-01-01 2024-02-01  \\\n",
       "City of London      104473.1096  108038.1181  ...     838041     840027   \n",
       "Barking & Dagenham  51471.61353   51513.7576  ...     329413     328665   \n",
       "Barnet              93273.12245  92567.38498  ...     575091     562453   \n",
       "Bexley              64509.54767  64529.93725  ...     393023     393050   \n",
       "Brent               73789.54287  73264.05385  ...     519978     524873   \n",
       "\n",
       "                   2024-03-01 2024-04-01 2024-05-01 2024-06-01 2024-07-01  \\\n",
       "City of London         831409     810395     814092     809408     749503   \n",
       "Barking & Dagenham     333559     335332     336382     334095     341625   \n",
       "Barnet                 569243     573831     581268     586101     589731   \n",
       "Bexley                 394225     396993     397897     402775     404066   \n",
       "Brent                  515137     503053     506044     532356     530953   \n",
       "\n",
       "                   2024-08-01 2024-09-01 2024-10-01  \n",
       "City of London         756112     726259     716754  \n",
       "Barking & Dagenham     337077     338047     338137  \n",
       "Barnet                 595477     589992     586982  \n",
       "Bexley                 408244     409354     409969  \n",
       "Brent                  547131     544935     553670  \n",
       "\n",
       "[5 rows x 358 columns]"
      ]
     },
     "execution_count": 15,
     "metadata": {},
     "output_type": "execute_result"
    }
   ],
   "source": [
    "# Lets drop all the rows with all null values to clean our dataset\n",
    "properties_transposed.dropna(how='all', inplace=True)\n",
    "\n",
    "# lets also drop first column which hase borough codes and we do not need them for our analysis\n",
    "properties_transposed.drop(properties_transposed.columns[0],axis=1, inplace=True)\n",
    "\n",
    "# the label on the top of index \"Unnamed: 0\" needs to be removed for clean dataset.\n",
    "properties_transposed.columns.name = None\n",
    "\n",
    "properties_transposed.head()"
   ]
  },
  {
   "cell_type": "code",
   "execution_count": 16,
   "metadata": {},
   "outputs": [
    {
     "data": {
      "text/plain": [
       "(45, 358)"
      ]
     },
     "execution_count": 16,
     "metadata": {},
     "output_type": "execute_result"
    }
   ],
   "source": [
    "# Lets check the shape of the new transposed dataset.\n",
    "properties_transposed.shape\n",
    "\n",
    "#It still have 45 rows instead of 32 boroughs so 13 extra rows"
   ]
  },
  {
   "cell_type": "code",
   "execution_count": 17,
   "metadata": {},
   "outputs": [
    {
     "data": {
      "text/plain": [
       "Series([], dtype: int64)"
      ]
     },
     "execution_count": 17,
     "metadata": {},
     "output_type": "execute_result"
    }
   ],
   "source": [
    "# lets also check if there is still any null values in out dataset.\n",
    "null_count = properties_transposed.isna().sum()\n",
    "columns_with_null = null_count[null_count > 0] \n",
    "columns_with_null\n",
    "\n",
    "# empty series output indicate no null value"
   ]
  },
  {
   "cell_type": "markdown",
   "metadata": {
    "colab_type": "text",
    "id": "o1uLbJAsoIjK"
   },
   "source": [
    "**2.3. Cleaning the data (part 2)**\n",
    "\n",
    "You might we have to **rename** a couple columns. How do you do this? The clue's pretty bold..."
   ]
  },
  {
   "cell_type": "code",
   "execution_count": 18,
   "metadata": {
    "colab": {},
    "colab_type": "code",
    "id": "GKkmn1AnoVZS"
   },
   "outputs": [
    {
     "name": "stdout",
     "output_type": "stream",
     "text": [
      "[Timestamp('1995-01-01 00:00:00'), Timestamp('1995-02-01 00:00:00'), Timestamp('1995-03-01 00:00:00'), Timestamp('1995-04-01 00:00:00'), Timestamp('1995-05-01 00:00:00'), Timestamp('1995-06-01 00:00:00'), Timestamp('1995-07-01 00:00:00'), Timestamp('1995-08-01 00:00:00'), Timestamp('1995-09-01 00:00:00'), Timestamp('1995-10-01 00:00:00'), Timestamp('1995-11-01 00:00:00'), Timestamp('1995-12-01 00:00:00'), Timestamp('1996-01-01 00:00:00'), Timestamp('1996-02-01 00:00:00'), Timestamp('1996-03-01 00:00:00'), Timestamp('1996-04-01 00:00:00'), Timestamp('1996-05-01 00:00:00'), Timestamp('1996-06-01 00:00:00'), Timestamp('1996-07-01 00:00:00'), Timestamp('1996-08-01 00:00:00'), Timestamp('1996-09-01 00:00:00'), Timestamp('1996-10-01 00:00:00'), Timestamp('1996-11-01 00:00:00'), Timestamp('1996-12-01 00:00:00'), Timestamp('1997-01-01 00:00:00'), Timestamp('1997-02-01 00:00:00'), Timestamp('1997-03-01 00:00:00'), Timestamp('1997-04-01 00:00:00'), Timestamp('1997-05-01 00:00:00'), Timestamp('1997-06-01 00:00:00'), Timestamp('1997-07-01 00:00:00'), Timestamp('1997-08-01 00:00:00'), Timestamp('1997-09-01 00:00:00'), Timestamp('1997-10-01 00:00:00'), Timestamp('1997-11-01 00:00:00'), Timestamp('1997-12-01 00:00:00'), Timestamp('1998-01-01 00:00:00'), Timestamp('1998-02-01 00:00:00'), Timestamp('1998-03-01 00:00:00'), Timestamp('1998-04-01 00:00:00'), Timestamp('1998-05-01 00:00:00'), Timestamp('1998-06-01 00:00:00'), Timestamp('1998-07-01 00:00:00'), Timestamp('1998-08-01 00:00:00'), Timestamp('1998-09-01 00:00:00'), Timestamp('1998-10-01 00:00:00'), Timestamp('1998-11-01 00:00:00'), Timestamp('1998-12-01 00:00:00'), Timestamp('1999-01-01 00:00:00'), Timestamp('1999-02-01 00:00:00'), Timestamp('1999-03-01 00:00:00'), Timestamp('1999-04-01 00:00:00'), Timestamp('1999-05-01 00:00:00'), Timestamp('1999-06-01 00:00:00'), Timestamp('1999-07-01 00:00:00'), Timestamp('1999-08-01 00:00:00'), Timestamp('1999-09-01 00:00:00'), Timestamp('1999-10-01 00:00:00'), Timestamp('1999-11-01 00:00:00'), Timestamp('1999-12-01 00:00:00'), Timestamp('2000-01-01 00:00:00'), Timestamp('2000-02-01 00:00:00'), Timestamp('2000-03-01 00:00:00'), Timestamp('2000-04-01 00:00:00'), Timestamp('2000-05-01 00:00:00'), Timestamp('2000-06-01 00:00:00'), Timestamp('2000-07-01 00:00:00'), Timestamp('2000-08-01 00:00:00'), Timestamp('2000-09-01 00:00:00'), Timestamp('2000-10-01 00:00:00'), Timestamp('2000-11-01 00:00:00'), Timestamp('2000-12-01 00:00:00'), Timestamp('2001-01-01 00:00:00'), Timestamp('2001-02-01 00:00:00'), Timestamp('2001-03-01 00:00:00'), Timestamp('2001-04-01 00:00:00'), Timestamp('2001-05-01 00:00:00'), Timestamp('2001-06-01 00:00:00'), Timestamp('2001-07-01 00:00:00'), Timestamp('2001-08-01 00:00:00'), Timestamp('2001-09-01 00:00:00'), Timestamp('2001-10-01 00:00:00'), Timestamp('2001-11-01 00:00:00'), Timestamp('2001-12-01 00:00:00'), Timestamp('2002-01-01 00:00:00'), Timestamp('2002-02-01 00:00:00'), Timestamp('2002-03-01 00:00:00'), Timestamp('2002-04-01 00:00:00'), Timestamp('2002-05-01 00:00:00'), Timestamp('2002-06-01 00:00:00'), Timestamp('2002-07-01 00:00:00'), Timestamp('2002-08-01 00:00:00'), Timestamp('2002-09-01 00:00:00'), Timestamp('2002-10-01 00:00:00'), Timestamp('2002-11-01 00:00:00'), Timestamp('2002-12-01 00:00:00'), Timestamp('2003-01-01 00:00:00'), Timestamp('2003-02-01 00:00:00'), Timestamp('2003-03-01 00:00:00'), Timestamp('2003-04-01 00:00:00'), Timestamp('2003-05-01 00:00:00'), Timestamp('2003-06-01 00:00:00'), Timestamp('2003-07-01 00:00:00'), Timestamp('2003-08-01 00:00:00'), Timestamp('2003-09-01 00:00:00'), Timestamp('2003-10-01 00:00:00'), Timestamp('2003-11-01 00:00:00'), Timestamp('2003-12-01 00:00:00'), Timestamp('2004-01-01 00:00:00'), Timestamp('2004-02-01 00:00:00'), Timestamp('2004-03-01 00:00:00'), Timestamp('2004-04-01 00:00:00'), Timestamp('2004-05-01 00:00:00'), Timestamp('2004-06-01 00:00:00'), Timestamp('2004-07-01 00:00:00'), Timestamp('2004-08-01 00:00:00'), Timestamp('2004-09-01 00:00:00'), Timestamp('2004-10-01 00:00:00'), Timestamp('2004-11-01 00:00:00'), Timestamp('2004-12-01 00:00:00'), Timestamp('2005-01-01 00:00:00'), Timestamp('2005-02-01 00:00:00'), Timestamp('2005-03-01 00:00:00'), Timestamp('2005-04-01 00:00:00'), Timestamp('2005-05-01 00:00:00'), Timestamp('2005-06-01 00:00:00'), Timestamp('2005-07-01 00:00:00'), Timestamp('2005-08-01 00:00:00'), Timestamp('2005-09-01 00:00:00'), Timestamp('2005-10-01 00:00:00'), Timestamp('2005-11-01 00:00:00'), Timestamp('2005-12-01 00:00:00'), Timestamp('2006-01-01 00:00:00'), Timestamp('2006-02-01 00:00:00'), Timestamp('2006-03-01 00:00:00'), Timestamp('2006-04-01 00:00:00'), Timestamp('2006-05-01 00:00:00'), Timestamp('2006-06-01 00:00:00'), Timestamp('2006-07-01 00:00:00'), Timestamp('2006-08-01 00:00:00'), Timestamp('2006-09-01 00:00:00'), Timestamp('2006-10-01 00:00:00'), Timestamp('2006-11-01 00:00:00'), Timestamp('2006-12-01 00:00:00'), Timestamp('2007-01-01 00:00:00'), Timestamp('2007-02-01 00:00:00'), Timestamp('2007-03-01 00:00:00'), Timestamp('2007-04-01 00:00:00'), Timestamp('2007-05-01 00:00:00'), Timestamp('2007-06-01 00:00:00'), Timestamp('2007-07-01 00:00:00'), Timestamp('2007-08-01 00:00:00'), Timestamp('2007-09-01 00:00:00'), Timestamp('2007-10-01 00:00:00'), Timestamp('2007-11-01 00:00:00'), Timestamp('2007-12-01 00:00:00'), Timestamp('2008-01-01 00:00:00'), Timestamp('2008-02-01 00:00:00'), Timestamp('2008-03-01 00:00:00'), Timestamp('2008-04-01 00:00:00'), Timestamp('2008-05-01 00:00:00'), Timestamp('2008-06-01 00:00:00'), Timestamp('2008-07-01 00:00:00'), Timestamp('2008-08-01 00:00:00'), Timestamp('2008-09-01 00:00:00'), Timestamp('2008-10-01 00:00:00'), Timestamp('2008-11-01 00:00:00'), Timestamp('2008-12-01 00:00:00'), Timestamp('2009-01-01 00:00:00'), Timestamp('2009-02-01 00:00:00'), Timestamp('2009-03-01 00:00:00'), Timestamp('2009-04-01 00:00:00'), Timestamp('2009-05-01 00:00:00'), Timestamp('2009-06-01 00:00:00'), Timestamp('2009-07-01 00:00:00'), Timestamp('2009-08-01 00:00:00'), Timestamp('2009-09-01 00:00:00'), Timestamp('2009-10-01 00:00:00'), Timestamp('2009-11-01 00:00:00'), Timestamp('2009-12-01 00:00:00'), Timestamp('2010-01-01 00:00:00'), Timestamp('2010-02-01 00:00:00'), Timestamp('2010-03-01 00:00:00'), Timestamp('2010-04-01 00:00:00'), Timestamp('2010-05-01 00:00:00'), Timestamp('2010-06-01 00:00:00'), Timestamp('2010-07-01 00:00:00'), Timestamp('2010-08-01 00:00:00'), Timestamp('2010-09-01 00:00:00'), Timestamp('2010-10-01 00:00:00'), Timestamp('2010-11-01 00:00:00'), Timestamp('2010-12-01 00:00:00'), Timestamp('2011-01-01 00:00:00'), Timestamp('2011-02-01 00:00:00'), Timestamp('2011-03-01 00:00:00'), Timestamp('2011-04-01 00:00:00'), Timestamp('2011-05-01 00:00:00'), Timestamp('2011-06-01 00:00:00'), Timestamp('2011-07-01 00:00:00'), Timestamp('2011-08-01 00:00:00'), Timestamp('2011-09-01 00:00:00'), Timestamp('2011-10-01 00:00:00'), Timestamp('2011-11-01 00:00:00'), Timestamp('2011-12-01 00:00:00'), Timestamp('2012-01-01 00:00:00'), Timestamp('2012-02-01 00:00:00'), Timestamp('2012-03-01 00:00:00'), Timestamp('2012-04-01 00:00:00'), Timestamp('2012-05-01 00:00:00'), Timestamp('2012-06-01 00:00:00'), Timestamp('2012-07-01 00:00:00'), Timestamp('2012-08-01 00:00:00'), Timestamp('2012-09-01 00:00:00'), Timestamp('2012-10-01 00:00:00'), Timestamp('2012-11-01 00:00:00'), Timestamp('2012-12-01 00:00:00'), Timestamp('2013-01-01 00:00:00'), Timestamp('2013-02-01 00:00:00'), Timestamp('2013-03-01 00:00:00'), Timestamp('2013-04-01 00:00:00'), Timestamp('2013-05-01 00:00:00'), Timestamp('2013-06-01 00:00:00'), Timestamp('2013-07-01 00:00:00'), Timestamp('2013-08-01 00:00:00'), Timestamp('2013-09-01 00:00:00'), Timestamp('2013-10-01 00:00:00'), Timestamp('2013-11-01 00:00:00'), Timestamp('2013-12-01 00:00:00'), Timestamp('2014-01-01 00:00:00'), Timestamp('2014-02-01 00:00:00'), Timestamp('2014-03-01 00:00:00'), Timestamp('2014-04-01 00:00:00'), Timestamp('2014-05-01 00:00:00'), Timestamp('2014-06-01 00:00:00'), Timestamp('2014-07-01 00:00:00'), Timestamp('2014-08-01 00:00:00'), Timestamp('2014-09-01 00:00:00'), Timestamp('2014-10-01 00:00:00'), Timestamp('2014-11-01 00:00:00'), Timestamp('2014-12-01 00:00:00'), Timestamp('2015-01-01 00:00:00'), Timestamp('2015-02-01 00:00:00'), Timestamp('2015-03-01 00:00:00'), Timestamp('2015-04-01 00:00:00'), Timestamp('2015-05-01 00:00:00'), Timestamp('2015-06-01 00:00:00'), Timestamp('2015-07-01 00:00:00'), Timestamp('2015-08-01 00:00:00'), Timestamp('2015-09-01 00:00:00'), Timestamp('2015-10-01 00:00:00'), Timestamp('2015-11-01 00:00:00'), Timestamp('2015-12-01 00:00:00'), Timestamp('2016-01-01 00:00:00'), Timestamp('2016-02-01 00:00:00'), Timestamp('2016-03-01 00:00:00'), Timestamp('2016-04-01 00:00:00'), Timestamp('2016-05-01 00:00:00'), Timestamp('2016-06-01 00:00:00'), Timestamp('2016-07-01 00:00:00'), Timestamp('2016-08-01 00:00:00'), Timestamp('2016-09-01 00:00:00'), Timestamp('2016-10-01 00:00:00'), Timestamp('2016-11-01 00:00:00'), Timestamp('2016-12-01 00:00:00'), Timestamp('2017-01-01 00:00:00'), Timestamp('2017-02-01 00:00:00'), Timestamp('2017-03-01 00:00:00'), Timestamp('2017-04-01 00:00:00'), Timestamp('2017-05-01 00:00:00'), Timestamp('2017-06-01 00:00:00'), Timestamp('2017-07-01 00:00:00'), Timestamp('2017-08-01 00:00:00'), Timestamp('2017-09-01 00:00:00'), Timestamp('2017-10-01 00:00:00'), Timestamp('2017-11-01 00:00:00'), Timestamp('2017-12-01 00:00:00'), Timestamp('2018-01-01 00:00:00'), Timestamp('2018-02-01 00:00:00'), Timestamp('2018-03-01 00:00:00'), Timestamp('2018-04-01 00:00:00'), Timestamp('2018-05-01 00:00:00'), Timestamp('2018-06-01 00:00:00'), Timestamp('2018-07-01 00:00:00'), Timestamp('2018-08-01 00:00:00'), Timestamp('2018-09-01 00:00:00'), Timestamp('2018-10-01 00:00:00'), Timestamp('2018-11-01 00:00:00'), Timestamp('2018-12-01 00:00:00'), Timestamp('2019-01-01 00:00:00'), Timestamp('2019-02-01 00:00:00'), Timestamp('2019-03-01 00:00:00'), Timestamp('2019-04-01 00:00:00'), Timestamp('2019-05-01 00:00:00'), Timestamp('2019-06-01 00:00:00'), Timestamp('2019-07-01 00:00:00'), Timestamp('2019-08-01 00:00:00'), Timestamp('2019-09-01 00:00:00'), Timestamp('2019-10-01 00:00:00'), Timestamp('2019-11-01 00:00:00'), Timestamp('2019-12-01 00:00:00'), Timestamp('2020-01-01 00:00:00'), Timestamp('2020-02-01 00:00:00'), Timestamp('2020-03-01 00:00:00'), Timestamp('2020-04-01 00:00:00'), Timestamp('2020-05-01 00:00:00'), Timestamp('2020-06-01 00:00:00'), Timestamp('2020-07-01 00:00:00'), Timestamp('2020-08-01 00:00:00'), Timestamp('2020-09-01 00:00:00'), Timestamp('2020-10-01 00:00:00'), Timestamp('2020-11-01 00:00:00'), Timestamp('2020-12-01 00:00:00'), Timestamp('2021-01-01 00:00:00'), Timestamp('2021-02-01 00:00:00'), Timestamp('2021-03-01 00:00:00'), Timestamp('2021-04-01 00:00:00'), Timestamp('2021-05-01 00:00:00'), Timestamp('2021-06-01 00:00:00'), Timestamp('2021-07-01 00:00:00'), Timestamp('2021-08-01 00:00:00'), Timestamp('2021-09-01 00:00:00'), Timestamp('2021-10-01 00:00:00'), Timestamp('2021-11-01 00:00:00'), Timestamp('2021-12-01 00:00:00'), Timestamp('2022-01-01 00:00:00'), Timestamp('2022-02-01 00:00:00'), Timestamp('2022-03-01 00:00:00'), Timestamp('2022-04-01 00:00:00'), Timestamp('2022-05-01 00:00:00'), Timestamp('2022-06-01 00:00:00'), Timestamp('2022-07-01 00:00:00'), Timestamp('2022-08-01 00:00:00'), Timestamp('2022-09-01 00:00:00'), Timestamp('2022-10-01 00:00:00'), Timestamp('2022-11-01 00:00:00'), Timestamp('2022-12-01 00:00:00'), Timestamp('2023-01-01 00:00:00'), Timestamp('2023-02-01 00:00:00'), Timestamp('2023-03-01 00:00:00'), Timestamp('2023-04-01 00:00:00'), Timestamp('2023-05-01 00:00:00'), Timestamp('2023-06-01 00:00:00'), Timestamp('2023-07-01 00:00:00'), Timestamp('2023-08-01 00:00:00'), Timestamp('2023-09-01 00:00:00'), Timestamp('2023-10-01 00:00:00'), Timestamp('2023-11-01 00:00:00'), Timestamp('2023-12-01 00:00:00'), Timestamp('2024-01-01 00:00:00'), Timestamp('2024-02-01 00:00:00'), Timestamp('2024-03-01 00:00:00'), Timestamp('2024-04-01 00:00:00'), Timestamp('2024-05-01 00:00:00'), Timestamp('2024-06-01 00:00:00'), Timestamp('2024-07-01 00:00:00'), Timestamp('2024-08-01 00:00:00'), Timestamp('2024-09-01 00:00:00'), Timestamp('2024-10-01 00:00:00')]\n"
     ]
    }
   ],
   "source": [
    "# Problem: How do I make sure that colums are in good order.\n",
    "# Solution: What if I sort the list of column names \n",
    "# first I will see if there is any data that is before 1995 or after 2024 \n",
    "# also it will throw error if they are not in datetime data type\n",
    "\n",
    "column_list = properties_transposed.columns.to_list()\n",
    "print(sorted(column_list))\n",
    "\n",
    "# Looks like all columns are in good shape"
   ]
  },
  {
   "cell_type": "code",
   "execution_count": 19,
   "metadata": {},
   "outputs": [
    {
     "data": {
      "text/plain": [
       "Index(['City of London', 'Barking & Dagenham', 'Barnet', 'Bexley', 'Brent',\n",
       "       'Bromley', 'Camden', 'Croydon', 'Ealing', 'Enfield', 'Greenwich',\n",
       "       'Hackney', 'Hammersmith & Fulham', 'Haringey', 'Harrow', 'Havering',\n",
       "       'Hillingdon', 'Hounslow', 'Islington', 'Kensington & Chelsea',\n",
       "       'Kingston upon Thames', 'Lambeth', 'Lewisham', 'Merton', 'Newham',\n",
       "       'Redbridge', 'Richmond upon Thames', 'Southwark', 'Sutton',\n",
       "       'Tower Hamlets', 'Waltham Forest', 'Wandsworth', 'Westminster',\n",
       "       'Inner London', 'Outer London', 'NORTH EAST', 'NORTH WEST',\n",
       "       'YORKS & THE HUMBER', 'EAST MIDLANDS', 'WEST MIDLANDS',\n",
       "       'EAST OF ENGLAND', 'LONDON', 'SOUTH EAST', 'SOUTH WEST', 'England'],\n",
       "      dtype='object')"
      ]
     },
     "execution_count": 19,
     "metadata": {},
     "output_type": "execute_result"
    }
   ],
   "source": [
    "# Lets begin working on our rows \n",
    "properties_transposed.index\n",
    "\n",
    "# I see so many extra name"
   ]
  },
  {
   "cell_type": "code",
   "execution_count": 20,
   "metadata": {},
   "outputs": [
    {
     "name": "stdout",
     "output_type": "stream",
     "text": [
      "13\n",
      "['Inner London', 'England', 'LONDON', 'NORTH WEST', 'SOUTH EAST', 'NORTH EAST', 'EAST MIDLANDS', 'EAST OF ENGLAND', 'SOUTH WEST', 'Westminster', 'Outer London', 'WEST MIDLANDS', 'YORKS & THE HUMBER']\n"
     ]
    }
   ],
   "source": [
    "# using webscrapping from wikipedia website, we have receive offical list of boroughs \n",
    "\n",
    "london_boroughs=[\n",
    "    \"Barking & Dagenham\",\n",
    "    \"Barnet\",\n",
    "    \"Bexley\",\n",
    "    \"Brent\",\n",
    "    \"Bromley\",\n",
    "    \"Camden\",\n",
    "    \"City of London\",\n",
    "    \"City of Westminster\",\n",
    "    \"Croydon\",\n",
    "    \"Ealing\",\n",
    "    \"Enfield\",\n",
    "    \"Greenwich\",\n",
    "    \"Hackney\",\n",
    "    \"Hammersmith & Fulham\",\n",
    "    \"Haringey\",\n",
    "    \"Harrow\",\n",
    "    \"Havering\",\n",
    "    \"Hillingdon\",\n",
    "    \"Hounslow\",\n",
    "    \"Islington\",\n",
    "    \"Kensington & Chelsea\",\n",
    "    \"Kingston upon Thames\",\n",
    "    \"Lambeth\",\n",
    "    \"Lewisham\",\n",
    "    \"Merton\",\n",
    "    \"Newham\",\n",
    "    \"Redbridge\",\n",
    "    \"Richmond upon Thames\",\n",
    "    \"Southwark\",\n",
    "    \"Sutton\",\n",
    "    \"Tower Hamlets\",\n",
    "    \"Waltham Forest\",\n",
    "    \"Wandsworth\"\n",
    "]\n",
    "\n",
    "\n",
    "# Lest find the list of indexes that are not in official borough list \n",
    "# it should be 13 elements as it will make remianing 32 borough list.\n",
    "not_boroughs = list(set(properties_transposed.index).difference(london_boroughs))\n",
    "print(len(not_boroughs))\n",
    "print(not_boroughs)"
   ]
  },
  {
   "cell_type": "code",
   "execution_count": 21,
   "metadata": {},
   "outputs": [
    {
     "name": "stdout",
     "output_type": "stream",
     "text": [
      "(32, 358)\n"
     ]
    },
    {
     "data": {
      "text/html": [
       "<div>\n",
       "<style scoped>\n",
       "    .dataframe tbody tr th:only-of-type {\n",
       "        vertical-align: middle;\n",
       "    }\n",
       "\n",
       "    .dataframe tbody tr th {\n",
       "        vertical-align: top;\n",
       "    }\n",
       "\n",
       "    .dataframe thead th {\n",
       "        text-align: right;\n",
       "    }\n",
       "</style>\n",
       "<table border=\"1\" class=\"dataframe\">\n",
       "  <thead>\n",
       "    <tr style=\"text-align: right;\">\n",
       "      <th></th>\n",
       "      <th>1995-01-01</th>\n",
       "      <th>1995-02-01</th>\n",
       "      <th>1995-03-01</th>\n",
       "      <th>1995-04-01</th>\n",
       "      <th>1995-05-01</th>\n",
       "      <th>1995-06-01</th>\n",
       "      <th>1995-07-01</th>\n",
       "      <th>1995-08-01</th>\n",
       "      <th>1995-09-01</th>\n",
       "      <th>1995-10-01</th>\n",
       "      <th>...</th>\n",
       "      <th>2024-01-01</th>\n",
       "      <th>2024-02-01</th>\n",
       "      <th>2024-03-01</th>\n",
       "      <th>2024-04-01</th>\n",
       "      <th>2024-05-01</th>\n",
       "      <th>2024-06-01</th>\n",
       "      <th>2024-07-01</th>\n",
       "      <th>2024-08-01</th>\n",
       "      <th>2024-09-01</th>\n",
       "      <th>2024-10-01</th>\n",
       "    </tr>\n",
       "  </thead>\n",
       "  <tbody>\n",
       "    <tr>\n",
       "      <th>City of London</th>\n",
       "      <td>91448.98487</td>\n",
       "      <td>82202.77314</td>\n",
       "      <td>79120.70256</td>\n",
       "      <td>77101.20804</td>\n",
       "      <td>84409.14932</td>\n",
       "      <td>94900.51244</td>\n",
       "      <td>110128.0423</td>\n",
       "      <td>112329.4376</td>\n",
       "      <td>104473.1096</td>\n",
       "      <td>108038.1181</td>\n",
       "      <td>...</td>\n",
       "      <td>838041</td>\n",
       "      <td>840027</td>\n",
       "      <td>831409</td>\n",
       "      <td>810395</td>\n",
       "      <td>814092</td>\n",
       "      <td>809408</td>\n",
       "      <td>749503</td>\n",
       "      <td>756112</td>\n",
       "      <td>726259</td>\n",
       "      <td>716754</td>\n",
       "    </tr>\n",
       "    <tr>\n",
       "      <th>Barking &amp; Dagenham</th>\n",
       "      <td>50460.2266</td>\n",
       "      <td>51085.77983</td>\n",
       "      <td>51268.96956</td>\n",
       "      <td>53133.50526</td>\n",
       "      <td>53042.24852</td>\n",
       "      <td>53700.34831</td>\n",
       "      <td>52113.12157</td>\n",
       "      <td>52232.19868</td>\n",
       "      <td>51471.61353</td>\n",
       "      <td>51513.7576</td>\n",
       "      <td>...</td>\n",
       "      <td>329413</td>\n",
       "      <td>328665</td>\n",
       "      <td>333559</td>\n",
       "      <td>335332</td>\n",
       "      <td>336382</td>\n",
       "      <td>334095</td>\n",
       "      <td>341625</td>\n",
       "      <td>337077</td>\n",
       "      <td>338047</td>\n",
       "      <td>338137</td>\n",
       "    </tr>\n",
       "    <tr>\n",
       "      <th>Barnet</th>\n",
       "      <td>93284.51832</td>\n",
       "      <td>93190.16963</td>\n",
       "      <td>92247.52435</td>\n",
       "      <td>90762.87492</td>\n",
       "      <td>90258.00033</td>\n",
       "      <td>90107.23471</td>\n",
       "      <td>91441.24768</td>\n",
       "      <td>92361.31512</td>\n",
       "      <td>93273.12245</td>\n",
       "      <td>92567.38498</td>\n",
       "      <td>...</td>\n",
       "      <td>575091</td>\n",
       "      <td>562453</td>\n",
       "      <td>569243</td>\n",
       "      <td>573831</td>\n",
       "      <td>581268</td>\n",
       "      <td>586101</td>\n",
       "      <td>589731</td>\n",
       "      <td>595477</td>\n",
       "      <td>589992</td>\n",
       "      <td>586982</td>\n",
       "    </tr>\n",
       "    <tr>\n",
       "      <th>Bexley</th>\n",
       "      <td>64958.09036</td>\n",
       "      <td>64787.92069</td>\n",
       "      <td>64367.49344</td>\n",
       "      <td>64277.66881</td>\n",
       "      <td>63997.13588</td>\n",
       "      <td>64252.32335</td>\n",
       "      <td>63722.70055</td>\n",
       "      <td>64432.60005</td>\n",
       "      <td>64509.54767</td>\n",
       "      <td>64529.93725</td>\n",
       "      <td>...</td>\n",
       "      <td>393023</td>\n",
       "      <td>393050</td>\n",
       "      <td>394225</td>\n",
       "      <td>396993</td>\n",
       "      <td>397897</td>\n",
       "      <td>402775</td>\n",
       "      <td>404066</td>\n",
       "      <td>408244</td>\n",
       "      <td>409354</td>\n",
       "      <td>409969</td>\n",
       "    </tr>\n",
       "    <tr>\n",
       "      <th>Brent</th>\n",
       "      <td>71306.56698</td>\n",
       "      <td>72022.26197</td>\n",
       "      <td>72015.76274</td>\n",
       "      <td>72965.63094</td>\n",
       "      <td>73704.04743</td>\n",
       "      <td>74310.48167</td>\n",
       "      <td>74127.03788</td>\n",
       "      <td>73547.0411</td>\n",
       "      <td>73789.54287</td>\n",
       "      <td>73264.05385</td>\n",
       "      <td>...</td>\n",
       "      <td>519978</td>\n",
       "      <td>524873</td>\n",
       "      <td>515137</td>\n",
       "      <td>503053</td>\n",
       "      <td>506044</td>\n",
       "      <td>532356</td>\n",
       "      <td>530953</td>\n",
       "      <td>547131</td>\n",
       "      <td>544935</td>\n",
       "      <td>553670</td>\n",
       "    </tr>\n",
       "  </tbody>\n",
       "</table>\n",
       "<p>5 rows × 358 columns</p>\n",
       "</div>"
      ],
      "text/plain": [
       "                     1995-01-01   1995-02-01   1995-03-01   1995-04-01  \\\n",
       "City of London      91448.98487  82202.77314  79120.70256  77101.20804   \n",
       "Barking & Dagenham   50460.2266  51085.77983  51268.96956  53133.50526   \n",
       "Barnet              93284.51832  93190.16963  92247.52435  90762.87492   \n",
       "Bexley              64958.09036  64787.92069  64367.49344  64277.66881   \n",
       "Brent               71306.56698  72022.26197  72015.76274  72965.63094   \n",
       "\n",
       "                     1995-05-01   1995-06-01   1995-07-01   1995-08-01  \\\n",
       "City of London      84409.14932  94900.51244  110128.0423  112329.4376   \n",
       "Barking & Dagenham  53042.24852  53700.34831  52113.12157  52232.19868   \n",
       "Barnet              90258.00033  90107.23471  91441.24768  92361.31512   \n",
       "Bexley              63997.13588  64252.32335  63722.70055  64432.60005   \n",
       "Brent               73704.04743  74310.48167  74127.03788   73547.0411   \n",
       "\n",
       "                     1995-09-01   1995-10-01  ... 2024-01-01 2024-02-01  \\\n",
       "City of London      104473.1096  108038.1181  ...     838041     840027   \n",
       "Barking & Dagenham  51471.61353   51513.7576  ...     329413     328665   \n",
       "Barnet              93273.12245  92567.38498  ...     575091     562453   \n",
       "Bexley              64509.54767  64529.93725  ...     393023     393050   \n",
       "Brent               73789.54287  73264.05385  ...     519978     524873   \n",
       "\n",
       "                   2024-03-01 2024-04-01 2024-05-01 2024-06-01 2024-07-01  \\\n",
       "City of London         831409     810395     814092     809408     749503   \n",
       "Barking & Dagenham     333559     335332     336382     334095     341625   \n",
       "Barnet                 569243     573831     581268     586101     589731   \n",
       "Bexley                 394225     396993     397897     402775     404066   \n",
       "Brent                  515137     503053     506044     532356     530953   \n",
       "\n",
       "                   2024-08-01 2024-09-01 2024-10-01  \n",
       "City of London         756112     726259     716754  \n",
       "Barking & Dagenham     337077     338047     338137  \n",
       "Barnet                 595477     589992     586982  \n",
       "Bexley                 408244     409354     409969  \n",
       "Brent                  547131     544935     553670  \n",
       "\n",
       "[5 rows x 358 columns]"
      ]
     },
     "execution_count": 21,
     "metadata": {},
     "output_type": "execute_result"
    }
   ],
   "source": [
    "#lets drop all not_boroughs elements rows from our dataset and assing to new dataset\n",
    "df_1 = properties_transposed.drop(not_boroughs)\n",
    "print(df_1.shape)\n",
    "df_1.head()"
   ]
  },
  {
   "cell_type": "markdown",
   "metadata": {
    "colab_type": "text",
    "id": "jy8BzXHmoWEw"
   },
   "source": [
    "**2.4.Transforming the data**\n",
    "\n",
    "Remember what Wes McKinney said about tidy data? \n",
    "\n",
    "You might need to **melt** your DataFrame here. "
   ]
  },
  {
   "cell_type": "code",
   "execution_count": 22,
   "metadata": {
    "colab": {},
    "colab_type": "code",
    "id": "S2wM0qLuo2Zt"
   },
   "outputs": [
    {
     "data": {
      "text/html": [
       "<div>\n",
       "<style scoped>\n",
       "    .dataframe tbody tr th:only-of-type {\n",
       "        vertical-align: middle;\n",
       "    }\n",
       "\n",
       "    .dataframe tbody tr th {\n",
       "        vertical-align: top;\n",
       "    }\n",
       "\n",
       "    .dataframe thead th {\n",
       "        text-align: right;\n",
       "    }\n",
       "</style>\n",
       "<table border=\"1\" class=\"dataframe\">\n",
       "  <thead>\n",
       "    <tr style=\"text-align: right;\">\n",
       "      <th>London_Borough</th>\n",
       "      <th>Date</th>\n",
       "      <th>Population</th>\n",
       "    </tr>\n",
       "  </thead>\n",
       "  <tbody>\n",
       "    <tr>\n",
       "      <th>City of London</th>\n",
       "      <td>1995-01-01</td>\n",
       "      <td>91448.98487</td>\n",
       "    </tr>\n",
       "    <tr>\n",
       "      <th>Barking &amp; Dagenham</th>\n",
       "      <td>1995-01-01</td>\n",
       "      <td>50460.2266</td>\n",
       "    </tr>\n",
       "    <tr>\n",
       "      <th>Barnet</th>\n",
       "      <td>1995-01-01</td>\n",
       "      <td>93284.51832</td>\n",
       "    </tr>\n",
       "    <tr>\n",
       "      <th>Bexley</th>\n",
       "      <td>1995-01-01</td>\n",
       "      <td>64958.09036</td>\n",
       "    </tr>\n",
       "    <tr>\n",
       "      <th>Brent</th>\n",
       "      <td>1995-01-01</td>\n",
       "      <td>71306.56698</td>\n",
       "    </tr>\n",
       "  </tbody>\n",
       "</table>\n",
       "</div>"
      ],
      "text/plain": [
       "London_Borough           Date   Population\n",
       "City of London     1995-01-01  91448.98487\n",
       "Barking & Dagenham 1995-01-01   50460.2266\n",
       "Barnet             1995-01-01  93284.51832\n",
       "Bexley             1995-01-01  64958.09036\n",
       "Brent              1995-01-01  71306.56698"
      ]
     },
     "execution_count": 22,
     "metadata": {},
     "output_type": "execute_result"
    }
   ],
   "source": [
    "# df.columns = pd.to_datetime(df.columns, format=\"%Y-%m\")\n",
    "\n",
    "# yearly_df = df.groupby(df.columns.year, axis=1).mean()\n",
    "\n",
    "# yearly_df.head()\n",
    "\n",
    "#Lets melt the database so the dates are verticel column to cutdown out numbers of columns.\n",
    "# since I am melting it i will assing new dataset so I can have access to previous dataset.\n",
    "\n",
    "df_2 = pd.melt(df_1, value_vars= df_1.columns, var_name= \"Date\" , value_name=\"Population\",ignore_index=False)\n",
    "\n",
    "df_2.columns.name = \"London_Borough\"\n",
    "df_2.head()"
   ]
  },
  {
   "cell_type": "code",
   "execution_count": 23,
   "metadata": {},
   "outputs": [
    {
     "data": {
      "text/html": [
       "<div>\n",
       "<style scoped>\n",
       "    .dataframe tbody tr th:only-of-type {\n",
       "        vertical-align: middle;\n",
       "    }\n",
       "\n",
       "    .dataframe tbody tr th {\n",
       "        vertical-align: top;\n",
       "    }\n",
       "\n",
       "    .dataframe thead th {\n",
       "        text-align: right;\n",
       "    }\n",
       "</style>\n",
       "<table border=\"1\" class=\"dataframe\">\n",
       "  <thead>\n",
       "    <tr style=\"text-align: right;\">\n",
       "      <th>London_Borough</th>\n",
       "      <th>Date</th>\n",
       "      <th>Population</th>\n",
       "      <th>Year</th>\n",
       "      <th>Month</th>\n",
       "    </tr>\n",
       "  </thead>\n",
       "  <tbody>\n",
       "    <tr>\n",
       "      <th>City of London</th>\n",
       "      <td>January-1995</td>\n",
       "      <td>91449</td>\n",
       "      <td>1995</td>\n",
       "      <td>January</td>\n",
       "    </tr>\n",
       "    <tr>\n",
       "      <th>Barking &amp; Dagenham</th>\n",
       "      <td>January-1995</td>\n",
       "      <td>50460</td>\n",
       "      <td>1995</td>\n",
       "      <td>January</td>\n",
       "    </tr>\n",
       "    <tr>\n",
       "      <th>Barnet</th>\n",
       "      <td>January-1995</td>\n",
       "      <td>93285</td>\n",
       "      <td>1995</td>\n",
       "      <td>January</td>\n",
       "    </tr>\n",
       "    <tr>\n",
       "      <th>Bexley</th>\n",
       "      <td>January-1995</td>\n",
       "      <td>64958</td>\n",
       "      <td>1995</td>\n",
       "      <td>January</td>\n",
       "    </tr>\n",
       "    <tr>\n",
       "      <th>Brent</th>\n",
       "      <td>January-1995</td>\n",
       "      <td>71307</td>\n",
       "      <td>1995</td>\n",
       "      <td>January</td>\n",
       "    </tr>\n",
       "  </tbody>\n",
       "</table>\n",
       "</div>"
      ],
      "text/plain": [
       "London_Borough              Date  Population  Year    Month\n",
       "City of London      January-1995       91449  1995  January\n",
       "Barking & Dagenham  January-1995       50460  1995  January\n",
       "Barnet              January-1995       93285  1995  January\n",
       "Bexley              January-1995       64958  1995  January\n",
       "Brent               January-1995       71307  1995  January"
      ]
     },
     "execution_count": 23,
     "metadata": {},
     "output_type": "execute_result"
    }
   ],
   "source": [
    "# now in melted dataset lets create Year and Month columns from Date column\n",
    "# also, it will be nice if we have population numbers rounded in int type.\n",
    "# and also, Date column can be properly formated from yyyy-mm-dd to month_name-year format \n",
    "\n",
    "df_2[\"Year\"] = df_2[\"Date\"].dt.year\n",
    "df_2[\"Month\"] = df_2[\"Date\"].dt.month_name()\n",
    "df_2[\"Population\"] = df_2[\"Population\"].apply(lambda x: int(round(x, 0)) )\n",
    "df_2[\"Date\"]= df_2[\"Date\"].dt.strftime('%B-%Y')\n",
    "df_2.head()"
   ]
  },
  {
   "cell_type": "markdown",
   "metadata": {
    "colab_type": "text",
    "id": "7kIsgAo7o3mf"
   },
   "source": [
    "Remember to make sure your column data types are all correct. Average prices, for example, should be floating point numbers... "
   ]
  },
  {
   "cell_type": "code",
   "execution_count": 24,
   "metadata": {
    "colab": {},
    "colab_type": "code",
    "id": "ZcR4IHbcpOaq"
   },
   "outputs": [
    {
     "name": "stdout",
     "output_type": "stream",
     "text": [
      "London_Borough\n",
      "Date          object\n",
      "Population     int64\n",
      "Year           int32\n",
      "Month         object\n",
      "dtype: object\n",
      "London_Borough\n",
      "Date          0\n",
      "Population    0\n",
      "Year          0\n",
      "Month         0\n",
      "dtype: int64\n",
      "(11456, 4)\n"
     ]
    }
   ],
   "source": [
    "# just checking if all the datatype is OK, no null values and shape.\n",
    "print(df_2.dtypes)\n",
    "print(df_2.isna().sum())\n",
    "print(df_2.shape)"
   ]
  },
  {
   "cell_type": "markdown",
   "metadata": {
    "colab_type": "text",
    "id": "knLUXHLypOtw"
   },
   "source": [
    "**2.5. Cleaning the data (part 3)**\n",
    "\n",
    "Do we have an equal number of observations in the ID, Average Price, Month, and London Borough columns? Remember that there are only 32 London Boroughs. How many entries do you have in that column? \n",
    "\n",
    "Check out the contents of the London Borough column, and if you find null values, get rid of them however you see fit. "
   ]
  },
  {
   "cell_type": "code",
   "execution_count": 25,
   "metadata": {},
   "outputs": [
    {
     "data": {
      "text/plain": [
       "True"
      ]
     },
     "execution_count": 25,
     "metadata": {},
     "output_type": "execute_result"
    }
   ],
   "source": [
    "# since 32 boroghs, 30 years, 12 months each except for 2024 (has 2 months less), indexes should be 11,456 length\n",
    "len(df_2.index) == 32*(30*12-2)"
   ]
  },
  {
   "cell_type": "code",
   "execution_count": 26,
   "metadata": {
    "colab": {},
    "colab_type": "code",
    "id": "BnvTW5a3p0fC"
   },
   "outputs": [
    {
     "data": {
      "text/html": [
       "<div>\n",
       "<style scoped>\n",
       "    .dataframe tbody tr th:only-of-type {\n",
       "        vertical-align: middle;\n",
       "    }\n",
       "\n",
       "    .dataframe tbody tr th {\n",
       "        vertical-align: top;\n",
       "    }\n",
       "\n",
       "    .dataframe thead th {\n",
       "        text-align: right;\n",
       "    }\n",
       "</style>\n",
       "<table border=\"1\" class=\"dataframe\">\n",
       "  <thead>\n",
       "    <tr style=\"text-align: right;\">\n",
       "      <th>London_Borough</th>\n",
       "      <th>Date</th>\n",
       "      <th>Population</th>\n",
       "      <th>Year</th>\n",
       "      <th>Month</th>\n",
       "    </tr>\n",
       "  </thead>\n",
       "  <tbody>\n",
       "    <tr>\n",
       "      <th>City of London</th>\n",
       "      <td>January-1995</td>\n",
       "      <td>91449</td>\n",
       "      <td>1995</td>\n",
       "      <td>January</td>\n",
       "    </tr>\n",
       "    <tr>\n",
       "      <th>Barking &amp; Dagenham</th>\n",
       "      <td>January-1995</td>\n",
       "      <td>50460</td>\n",
       "      <td>1995</td>\n",
       "      <td>January</td>\n",
       "    </tr>\n",
       "    <tr>\n",
       "      <th>Barnet</th>\n",
       "      <td>January-1995</td>\n",
       "      <td>93285</td>\n",
       "      <td>1995</td>\n",
       "      <td>January</td>\n",
       "    </tr>\n",
       "    <tr>\n",
       "      <th>Bexley</th>\n",
       "      <td>January-1995</td>\n",
       "      <td>64958</td>\n",
       "      <td>1995</td>\n",
       "      <td>January</td>\n",
       "    </tr>\n",
       "    <tr>\n",
       "      <th>Brent</th>\n",
       "      <td>January-1995</td>\n",
       "      <td>71307</td>\n",
       "      <td>1995</td>\n",
       "      <td>January</td>\n",
       "    </tr>\n",
       "  </tbody>\n",
       "</table>\n",
       "</div>"
      ],
      "text/plain": [
       "London_Borough              Date  Population  Year    Month\n",
       "City of London      January-1995       91449  1995  January\n",
       "Barking & Dagenham  January-1995       50460  1995  January\n",
       "Barnet              January-1995       93285  1995  January\n",
       "Bexley              January-1995       64958  1995  January\n",
       "Brent               January-1995       71307  1995  January"
      ]
     },
     "execution_count": 26,
     "metadata": {},
     "output_type": "execute_result"
    }
   ],
   "source": [
    "# since out dataset is read, lets assing df to work with\n",
    "df= df_2.copy()\n",
    "df.head()"
   ]
  },
  {
   "cell_type": "code",
   "execution_count": 27,
   "metadata": {},
   "outputs": [],
   "source": [
    "# lets check line plot for 2 to 3 boroughs to see if it coming out OK\n",
    "df_brent = df.loc[\"Brent\"]\n",
    "df_Barnet = df.loc[\"Barnet\"]"
   ]
  },
  {
   "cell_type": "markdown",
   "metadata": {
    "colab_type": "text",
    "id": "PGEx6mJsp6dG"
   },
   "source": [
    "**2.6. Visualizing the data**\n",
    "\n",
    "To visualize the data, why not subset on a particular London Borough? Maybe do a line plot of Month against Average Price?"
   ]
  },
  {
   "cell_type": "code",
   "execution_count": 28,
   "metadata": {
    "colab": {},
    "colab_type": "code",
    "id": "nAg5pT9cqHAR"
   },
   "outputs": [
    {
     "data": {
      "image/png": "[encoded data removed]",
      "text/plain": [
       "<Figure size 640x480 with 1 Axes>"
      ]
     },
     "metadata": {},
     "output_type": "display_data"
    }
   ],
   "source": [
    "ax = df_brent.plot(x=\"Date\", y=\"Population\", kind=\"line\", rot=90) # to overlap the line graph assing axes\n",
    "df.loc[\"Barnet\"].plot(x=\"Date\", y=\"Population\", kind=\"line\", rot=90, ax=ax)\n",
    "df.loc[\"Bexley\"].plot(x=\"Date\", y=\"Population\", kind=\"line\", rot=90, ax=ax)\n",
    "plt.legend(['Brent', 'Barnet', \"Bexley\"])  # rename the color legends \n",
    "plt.xlabel('Month and Year of Population Count')\n",
    "plt.ylabel('Population Count')\n",
    "plt.title('Population Tread of 3 boroughs of London between 1995 and 2014')\n",
    "plt.show()"
   ]
  },
  {
   "cell_type": "code",
   "execution_count": 29,
   "metadata": {},
   "outputs": [
    {
     "data": {
      "image/png": "[encoded data removed]",
      "text/plain": [
       "<Figure size 640x480 with 1 Axes>"
      ]
     },
     "metadata": {},
     "output_type": "display_data"
    }
   ],
   "source": [
    "# lets clean the axes \n",
    "plt.cla()"
   ]
  },
  {
   "cell_type": "code",
   "execution_count": 30,
   "metadata": {},
   "outputs": [
    {
     "data": {
      "image/png": "[encoded data removed]",
      "text/plain": [
       "<Figure size 640x480 with 1 Axes>"
      ]
     },
     "metadata": {},
     "output_type": "display_data"
    }
   ],
   "source": [
    "# is it possible to create the line graph for all the boroughs using for loop\n",
    "legend = []\n",
    "for borough in set(df.index):\n",
    "    if len(legend) == 0:\n",
    "        ax = df.loc[borough].plot(x=\"Date\", y=\"Population\", kind=\"line\", rot=90)\n",
    "    else:\n",
    "        df.loc[borough].plot(x=\"Date\", y=\"Population\", kind=\"line\", rot=90, ax=ax)\n",
    "    legend.append(borough)\n",
    "\n",
    "plt.legend(legend, bbox_to_anchor=(1.05, 1), loc='upper left') # assing legends and move the box outside the graph\n",
    "plt.xlabel('Month and Year of Population Count')\n",
    "plt.ylabel('Population Count in millions')\n",
    "plt.title('Population Tread of all the boroughs of London between 1995 and 2014')\n",
    "plt.show()\n"
   ]
  },
  {
   "cell_type": "markdown",
   "metadata": {
    "colab_type": "text",
    "id": "aWTPqSJeqHnC"
   },
   "source": [
    "To limit the number of data points you have, you might want to extract the year from every month value your *Month* column. \n",
    "\n",
    "To this end, you *could* apply a ***lambda function***. Your logic could work as follows:\n",
    "1. look through the `Month` column\n",
    "2. extract the year from each individual value in that column \n",
    "3. store that corresponding year as separate column. \n",
    "\n",
    "Whether you go ahead with this is up to you. Just so long as you answer our initial brief: which boroughs of London have seen the greatest house price increase, on average, over the past two decades? "
   ]
  },
  {
   "cell_type": "code",
   "execution_count": 31,
   "metadata": {},
   "outputs": [
    {
     "data": {
      "text/html": [
       "<div>\n",
       "<style scoped>\n",
       "    .dataframe tbody tr th:only-of-type {\n",
       "        vertical-align: middle;\n",
       "    }\n",
       "\n",
       "    .dataframe tbody tr th {\n",
       "        vertical-align: top;\n",
       "    }\n",
       "\n",
       "    .dataframe thead th {\n",
       "        text-align: right;\n",
       "    }\n",
       "</style>\n",
       "<table border=\"1\" class=\"dataframe\">\n",
       "  <thead>\n",
       "    <tr style=\"text-align: right;\">\n",
       "      <th></th>\n",
       "      <th>London_borough</th>\n",
       "      <th>Year</th>\n",
       "      <th>Population</th>\n",
       "    </tr>\n",
       "  </thead>\n",
       "  <tbody>\n",
       "    <tr>\n",
       "      <th>0</th>\n",
       "      <td>Barking &amp; Dagenham</td>\n",
       "      <td>1995</td>\n",
       "      <td>51818</td>\n",
       "    </tr>\n",
       "    <tr>\n",
       "      <th>1</th>\n",
       "      <td>Barking &amp; Dagenham</td>\n",
       "      <td>1996</td>\n",
       "      <td>51718</td>\n",
       "    </tr>\n",
       "    <tr>\n",
       "      <th>2</th>\n",
       "      <td>Barking &amp; Dagenham</td>\n",
       "      <td>1997</td>\n",
       "      <td>55974</td>\n",
       "    </tr>\n",
       "    <tr>\n",
       "      <th>3</th>\n",
       "      <td>Barking &amp; Dagenham</td>\n",
       "      <td>1998</td>\n",
       "      <td>60286</td>\n",
       "    </tr>\n",
       "    <tr>\n",
       "      <th>4</th>\n",
       "      <td>Barking &amp; Dagenham</td>\n",
       "      <td>1999</td>\n",
       "      <td>65321</td>\n",
       "    </tr>\n",
       "  </tbody>\n",
       "</table>\n",
       "</div>"
      ],
      "text/plain": [
       "       London_borough  Year  Population\n",
       "0  Barking & Dagenham  1995       51818\n",
       "1  Barking & Dagenham  1996       51718\n",
       "2  Barking & Dagenham  1997       55974\n",
       "3  Barking & Dagenham  1998       60286\n",
       "4  Barking & Dagenham  1999       65321"
      ]
     },
     "execution_count": 31,
     "metadata": {},
     "output_type": "execute_result"
    }
   ],
   "source": [
    "# Now, lets work on out initial question: which boroughs of London have seen the greatest house price increase, on average, over the past three decades? \n",
    "# for that lets reset out indexs so we can easily grab name of the borough to subset\n",
    "df2 =df.reset_index(drop=False,names=\"London_borough\")\n",
    "\n",
    "# lets groupby the borough and the year to get mean yearly population of each borough to reduce data points.\n",
    "df2 = df2.groupby([\"London_borough\",\"Year\"], as_index=False)[\"Population\"].mean()\n",
    "\n",
    "# as we calculate mean, we want to again round our population value\n",
    "df2[\"Population\"] = df2[\"Population\"].apply(lambda x: int(round(x, 0)))\n",
    "\n",
    "df2.head()"
   ]
  },
  {
   "cell_type": "code",
   "execution_count": 32,
   "metadata": {},
   "outputs": [
    {
     "name": "stderr",
     "output_type": "stream",
     "text": [
      "C:\\Users\\sanja\\AppData\\Local\\Temp\\ipykernel_14956\\247978261.py:11: FutureWarning: The behavior of DataFrame concatenation with empty or all-NA entries is deprecated. In a future version, this will no longer exclude empty or all-NA columns when determining the result dtypes. To retain the old behavior, exclude the relevant entries before the concat operation.\n",
      "  df3 = pd.concat([pd.DataFrame([[borough,average_increase]], columns=df3.columns),df3],ignore_index=True)\n"
     ]
    },
    {
     "data": {
      "text/html": [
       "<div>\n",
       "<style scoped>\n",
       "    .dataframe tbody tr th:only-of-type {\n",
       "        vertical-align: middle;\n",
       "    }\n",
       "\n",
       "    .dataframe tbody tr th {\n",
       "        vertical-align: top;\n",
       "    }\n",
       "\n",
       "    .dataframe thead th {\n",
       "        text-align: right;\n",
       "    }\n",
       "</style>\n",
       "<table border=\"1\" class=\"dataframe\">\n",
       "  <thead>\n",
       "    <tr style=\"text-align: right;\">\n",
       "      <th></th>\n",
       "      <th>Borough</th>\n",
       "      <th>Average_increase</th>\n",
       "    </tr>\n",
       "  </thead>\n",
       "  <tbody>\n",
       "    <tr>\n",
       "      <th>0</th>\n",
       "      <td>Barnet</td>\n",
       "      <td>6.804737</td>\n",
       "    </tr>\n",
       "    <tr>\n",
       "      <th>1</th>\n",
       "      <td>Wandsworth</td>\n",
       "      <td>7.236680</td>\n",
       "    </tr>\n",
       "    <tr>\n",
       "      <th>2</th>\n",
       "      <td>Kensington &amp; Chelsea</td>\n",
       "      <td>7.004359</td>\n",
       "    </tr>\n",
       "    <tr>\n",
       "      <th>3</th>\n",
       "      <td>Camden</td>\n",
       "      <td>7.143018</td>\n",
       "    </tr>\n",
       "    <tr>\n",
       "      <th>4</th>\n",
       "      <td>Haringey</td>\n",
       "      <td>7.240162</td>\n",
       "    </tr>\n",
       "  </tbody>\n",
       "</table>\n",
       "</div>"
      ],
      "text/plain": [
       "                Borough  Average_increase\n",
       "0                Barnet          6.804737\n",
       "1            Wandsworth          7.236680\n",
       "2  Kensington & Chelsea          7.004359\n",
       "3                Camden          7.143018\n",
       "4              Haringey          7.240162"
      ]
     },
     "execution_count": 32,
     "metadata": {},
     "output_type": "execute_result"
    }
   ],
   "source": [
    "# Now that we have yearly population number, lets count the mean of percentage change over the years\n",
    "#avarage_increase = df2[df2[\"London_borough\"]==\"Barking & Dagenham\"][\"Population\"].pct_change().mean() * 100\n",
    "\n",
    "# Problem: how to I capture and store all the average increase for all the boroughs. I can do dictionary or another dataset \n",
    "# Solution: I decided to create empty dataset to store percentage increases to create the bar plot later.\n",
    "df3 = pd.DataFrame(columns=[\"Borough\",\"Average_increase\"])\n",
    "\n",
    "# Lets use for loop to add our calculations in to our dataset.\n",
    "for borough in set(df2[\"London_borough\"]):\n",
    "    average_increase = df2[df2[\"London_borough\"]==borough][\"Population\"].pct_change().mean() * 100\n",
    "    df3 = pd.concat([pd.DataFrame([[borough,average_increase]], columns=df3.columns),df3],ignore_index=True)\n",
    "\n",
    "df3.head()"
   ]
  },
  {
   "cell_type": "code",
   "execution_count": 33,
   "metadata": {},
   "outputs": [
    {
     "data": {
      "text/html": [
       "<div>\n",
       "<style scoped>\n",
       "    .dataframe tbody tr th:only-of-type {\n",
       "        vertical-align: middle;\n",
       "    }\n",
       "\n",
       "    .dataframe tbody tr th {\n",
       "        vertical-align: top;\n",
       "    }\n",
       "\n",
       "    .dataframe thead th {\n",
       "        text-align: right;\n",
       "    }\n",
       "</style>\n",
       "<table border=\"1\" class=\"dataframe\">\n",
       "  <thead>\n",
       "    <tr style=\"text-align: right;\">\n",
       "      <th></th>\n",
       "      <th>Borough</th>\n",
       "      <th>Average_increase</th>\n",
       "    </tr>\n",
       "  </thead>\n",
       "  <tbody>\n",
       "    <tr>\n",
       "      <th>15</th>\n",
       "      <td>Hackney</td>\n",
       "      <td>8.115474</td>\n",
       "    </tr>\n",
       "  </tbody>\n",
       "</table>\n",
       "</div>"
      ],
      "text/plain": [
       "    Borough  Average_increase\n",
       "15  Hackney          8.115474"
      ]
     },
     "execution_count": 33,
     "metadata": {},
     "output_type": "execute_result"
    }
   ],
   "source": [
    "# lets find the boroughs of London have seen the greatest house price increase over the past two decades\n",
    "highest_borough = df3[\"Average_increase\"].max()\n",
    "df3[df3[\"Average_increase\"] == highest_borough]\n",
    "\n",
    "# the answer is: HACKNEY BOROUGH HAS ON AVERAGE 8.115% INCREASE IN POPULATION WHICH IS HIGHEST AMONG OTHER BOROUGHS."
   ]
  },
  {
   "cell_type": "code",
   "execution_count": 39,
   "metadata": {},
   "outputs": [
    {
     "name": "stderr",
     "output_type": "stream",
     "text": [
      "C:\\Users\\sanja\\AppData\\Local\\Temp\\ipykernel_14956\\2900322691.py:4: DeprecationWarning: DataFrameGroupBy.apply operated on the grouping columns. This behavior is deprecated, and in a future version of pandas the grouping columns will be excluded from the operation. Either pass `include_groups=False` to exclude the groupings or explicitly select the grouping columns after groupby to silence this warning.\n",
      "  df4 = df2.groupby('London_borough',sort=False).apply(lambda x: (x[\"Population\"].values[-1] - x[\"Population\"].values[0]) / x[\"Population\"].values[-1] * 100)\n"
     ]
    },
    {
     "data": {
      "text/html": [
       "<div>\n",
       "<style scoped>\n",
       "    .dataframe tbody tr th:only-of-type {\n",
       "        vertical-align: middle;\n",
       "    }\n",
       "\n",
       "    .dataframe tbody tr th {\n",
       "        vertical-align: top;\n",
       "    }\n",
       "\n",
       "    .dataframe thead th {\n",
       "        text-align: right;\n",
       "    }\n",
       "</style>\n",
       "<table border=\"1\" class=\"dataframe\">\n",
       "  <thead>\n",
       "    <tr style=\"text-align: right;\">\n",
       "      <th></th>\n",
       "      <th>increases</th>\n",
       "    </tr>\n",
       "    <tr>\n",
       "      <th>London_borough</th>\n",
       "      <th></th>\n",
       "    </tr>\n",
       "  </thead>\n",
       "  <tbody>\n",
       "    <tr>\n",
       "      <th>Barking &amp; Dagenham</th>\n",
       "      <td>84.542691</td>\n",
       "    </tr>\n",
       "    <tr>\n",
       "      <th>Barnet</th>\n",
       "      <td>84.201495</td>\n",
       "    </tr>\n",
       "    <tr>\n",
       "      <th>Bexley</th>\n",
       "      <td>83.965483</td>\n",
       "    </tr>\n",
       "    <tr>\n",
       "      <th>Brent</th>\n",
       "      <td>86.163660</td>\n",
       "    </tr>\n",
       "    <tr>\n",
       "      <th>Bromley</th>\n",
       "      <td>83.308490</td>\n",
       "    </tr>\n",
       "  </tbody>\n",
       "</table>\n",
       "</div>"
      ],
      "text/plain": [
       "                    increases\n",
       "London_borough               \n",
       "Barking & Dagenham  84.542691\n",
       "Barnet              84.201495\n",
       "Bexley              83.965483\n",
       "Brent               86.163660\n",
       "Bromley             83.308490"
      ]
     },
     "execution_count": 39,
     "metadata": {},
     "output_type": "execute_result"
    }
   ],
   "source": [
    "# Is there any other way to calculate percentage change in price overall\n",
    "# https://stackoverflow.com/questions/56583049/calculate-percent-change-over-time-of-pandas-column-values-based-on-other-colu\n",
    "# (lastprice - firstprice) / lastprice * 100 can be calculated as below \n",
    "df4 = df2.groupby('London_borough',sort=False).apply(lambda x: (x[\"Population\"].values[-1] - x[\"Population\"].values[0]) / x[\"Population\"].values[-1] * 100)\n",
    "df4 = df4.to_frame(name=\"increases\")\n",
    "df4.head()"
   ]
  },
  {
   "cell_type": "code",
   "execution_count": 40,
   "metadata": {},
   "outputs": [
    {
     "data": {
      "text/html": [
       "<div>\n",
       "<style scoped>\n",
       "    .dataframe tbody tr th:only-of-type {\n",
       "        vertical-align: middle;\n",
       "    }\n",
       "\n",
       "    .dataframe tbody tr th {\n",
       "        vertical-align: top;\n",
       "    }\n",
       "\n",
       "    .dataframe thead th {\n",
       "        text-align: right;\n",
       "    }\n",
       "</style>\n",
       "<table border=\"1\" class=\"dataframe\">\n",
       "  <thead>\n",
       "    <tr style=\"text-align: right;\">\n",
       "      <th></th>\n",
       "      <th>increases</th>\n",
       "    </tr>\n",
       "    <tr>\n",
       "      <th>London_borough</th>\n",
       "      <th></th>\n",
       "    </tr>\n",
       "  </thead>\n",
       "  <tbody>\n",
       "    <tr>\n",
       "      <th>Hackney</th>\n",
       "      <td>88.785391</td>\n",
       "    </tr>\n",
       "  </tbody>\n",
       "</table>\n",
       "</div>"
      ],
      "text/plain": [
       "                increases\n",
       "London_borough           \n",
       "Hackney         88.785391"
      ]
     },
     "execution_count": 40,
     "metadata": {},
     "output_type": "execute_result"
    }
   ],
   "source": [
    "# Lets calculate which borough according to df4 dataframe is highest\n",
    "df4[df4[\"increases\"] == df4[\"increases\"].max()]\n",
    "\n",
    "# It is still the Hackney Borough."
   ]
  },
  {
   "cell_type": "code",
   "execution_count": 34,
   "metadata": {},
   "outputs": [
    {
     "data": {
      "text/plain": [
       "15"
      ]
     },
     "execution_count": 34,
     "metadata": {},
     "output_type": "execute_result"
    }
   ],
   "source": [
    "#just testing how to get the index of the max value for the bar plot colorgit\n",
    "df3[\"Average_increase\"].idxmax()"
   ]
  },
  {
   "cell_type": "code",
   "execution_count": 35,
   "metadata": {},
   "outputs": [
    {
     "data": {
      "image/png": "[encoded data removed]",
      "text/plain": [
       "<Figure size 640x480 with 1 Axes>"
      ]
     },
     "metadata": {},
     "output_type": "display_data"
    }
   ],
   "source": [
    "# lets create the bar plot for showin all boroughs average increse in population\n",
    "ax =df3.plot(x=\"Borough\", y=\"Average_increase\", kind=\"bar\", rot=90)\n",
    "bars = ax.patches\n",
    "bars[df3[\"Average_increase\"].idxmax()].set_color(\"Orange\") # lets grabe the index positon of Hackney borough to color orange\n",
    "ax.set_ylim(5, 10) # reduce the size of bars to see the difference more clearly.\n",
    "plt.xlabel('Boroughs of London')\n",
    "plt.ylabel('Average Increase in Percentage (%)')\n",
    "plt.title('Average population increase of boroughs of London between 1995 and 2014')\n",
    "plt.show()"
   ]
  },
  {
   "cell_type": "markdown",
   "metadata": {
    "colab_type": "text",
    "id": "2knuTxAEqoJ4"
   },
   "source": [
    "**3. Modeling**\n",
    "\n",
    "Consider creating a function that will calculate a ratio of house prices, comparing the price of a house in 2018 to the price in 1998.\n",
    "\n",
    "Consider calling this function create_price_ratio.\n",
    "\n",
    "You'd want this function to:\n",
    "1. Take a filter of dfg, specifically where this filter constrains the London_Borough, as an argument. For example, one admissible argument should be: dfg[dfg['London_Borough']=='Camden'].\n",
    "2. Get the Average Price for that Borough, for the years 1998 and 2018.\n",
    "4. Calculate the ratio of the Average Price for 1998 divided by the Average Price for 2018.\n",
    "5. Return that ratio.\n",
    "\n",
    "Once you've written this function, you ultimately want to use it to iterate through all the unique London_Boroughs and work out the ratio capturing the difference of house prices between 1998 and 2018.\n",
    "\n",
    "Bear in mind: you don't have to write a function like this if you don't want to. If you can solve the brief otherwise, then great! \n",
    "\n",
    "***Hint***: This section should test the skills you acquired in:\n",
    "- Python Data Science Toolbox - Part One, all modules"
   ]
  },
  {
   "cell_type": "code",
   "execution_count": 36,
   "metadata": {},
   "outputs": [],
   "source": [
    "# lets write the function to calculate the ration between population of 1998 and 2018 for given borough\n",
    "def ratio(borough_name):\n",
    "    a = df2[\"London_borough\"] == borough_name\n",
    "    b = df2[\"Year\"] == 1998\n",
    "    c = df2[\"Year\"] == 2018\n",
    "    ratio = df2.loc[(a & b), \"Population\"].values[0] / df2.loc[(a & c), \"Population\"].values[0]\n",
    "    return float(ratio)\n"
   ]
  },
  {
   "cell_type": "code",
   "execution_count": 37,
   "metadata": {},
   "outputs": [
    {
     "name": "stderr",
     "output_type": "stream",
     "text": [
      "C:\\Users\\sanja\\AppData\\Local\\Temp\\ipykernel_14956\\2206702954.py:6: FutureWarning: The behavior of DataFrame concatenation with empty or all-NA entries is deprecated. In a future version, this will no longer exclude empty or all-NA columns when determining the result dtypes. To retain the old behavior, exclude the relevant entries before the concat operation.\n",
      "  df_ratio = pd.concat([pd.DataFrame([[borough,ratio(borough)]], columns=df_ratio.columns),df_ratio],ignore_index=True)\n"
     ]
    },
    {
     "data": {
      "text/html": [
       "<div>\n",
       "<style scoped>\n",
       "    .dataframe tbody tr th:only-of-type {\n",
       "        vertical-align: middle;\n",
       "    }\n",
       "\n",
       "    .dataframe tbody tr th {\n",
       "        vertical-align: top;\n",
       "    }\n",
       "\n",
       "    .dataframe thead th {\n",
       "        text-align: right;\n",
       "    }\n",
       "</style>\n",
       "<table border=\"1\" class=\"dataframe\">\n",
       "  <thead>\n",
       "    <tr style=\"text-align: right;\">\n",
       "      <th></th>\n",
       "      <th>Borough</th>\n",
       "      <th>Price_ratio</th>\n",
       "    </tr>\n",
       "  </thead>\n",
       "  <tbody>\n",
       "    <tr>\n",
       "      <th>0</th>\n",
       "      <td>Barnet</td>\n",
       "      <td>0.229474</td>\n",
       "    </tr>\n",
       "    <tr>\n",
       "      <th>1</th>\n",
       "      <td>Wandsworth</td>\n",
       "      <td>0.210192</td>\n",
       "    </tr>\n",
       "    <tr>\n",
       "      <th>2</th>\n",
       "      <td>Kensington &amp; Chelsea</td>\n",
       "      <td>0.196766</td>\n",
       "    </tr>\n",
       "    <tr>\n",
       "      <th>3</th>\n",
       "      <td>Camden</td>\n",
       "      <td>0.202674</td>\n",
       "    </tr>\n",
       "    <tr>\n",
       "      <th>4</th>\n",
       "      <td>Haringey</td>\n",
       "      <td>0.194759</td>\n",
       "    </tr>\n",
       "  </tbody>\n",
       "</table>\n",
       "</div>"
      ],
      "text/plain": [
       "                Borough  Price_ratio\n",
       "0                Barnet     0.229474\n",
       "1            Wandsworth     0.210192\n",
       "2  Kensington & Chelsea     0.196766\n",
       "3                Camden     0.202674\n",
       "4              Haringey     0.194759"
      ]
     },
     "execution_count": 37,
     "metadata": {},
     "output_type": "execute_result"
    }
   ],
   "source": [
    "# can we use that function to calculate and store price_ratio of each borough in new datasets?\n",
    "\n",
    "df_ratio = pd.DataFrame(columns=[\"Borough\",\"Price_ratio\"])\n",
    "\n",
    "for borough in set(df2[\"London_borough\"]):\n",
    "    df_ratio = pd.concat([pd.DataFrame([[borough,ratio(borough)]], columns=df_ratio.columns),df_ratio],ignore_index=True)\n",
    "\n",
    "df_ratio.head()"
   ]
  },
  {
   "cell_type": "code",
   "execution_count": 38,
   "metadata": {
    "colab": {},
    "colab_type": "code",
    "id": "cKTyr437UgDa"
   },
   "outputs": [
    {
     "data": {
      "text/html": [
       "<div>\n",
       "<style scoped>\n",
       "    .dataframe tbody tr th:only-of-type {\n",
       "        vertical-align: middle;\n",
       "    }\n",
       "\n",
       "    .dataframe tbody tr th {\n",
       "        vertical-align: top;\n",
       "    }\n",
       "\n",
       "    .dataframe thead th {\n",
       "        text-align: right;\n",
       "    }\n",
       "</style>\n",
       "<table border=\"1\" class=\"dataframe\">\n",
       "  <thead>\n",
       "    <tr style=\"text-align: right;\">\n",
       "      <th></th>\n",
       "      <th>Borough</th>\n",
       "      <th>Price_ratio</th>\n",
       "    </tr>\n",
       "  </thead>\n",
       "  <tbody>\n",
       "    <tr>\n",
       "      <th>15</th>\n",
       "      <td>Hackney</td>\n",
       "      <td>0.161334</td>\n",
       "    </tr>\n",
       "  </tbody>\n",
       "</table>\n",
       "</div>"
      ],
      "text/plain": [
       "    Borough  Price_ratio\n",
       "15  Hackney     0.161334"
      ]
     },
     "execution_count": 38,
     "metadata": {},
     "output_type": "execute_result"
    }
   ],
   "source": [
    "df_ratio[df_ratio[\"Borough\"]==\"Hackney\"]"
   ]
  },
  {
   "cell_type": "markdown",
   "metadata": {
    "colab_type": "text",
    "id": "NzYUI7FxJpgv"
   },
   "source": [
    "### 4. Conclusion\n",
    "What can you conclude? Type out your conclusion below. \n",
    "\n",
    "Look back at your notebook. Think about how you might summarize what you have done, and prepare a quick presentation on it to your mentor at your next meeting. \n",
    "\n",
    "We hope you enjoyed this practical project. It should have consolidated your data hygiene and pandas skills by looking at a real-world problem involving just the kind of dataset you might encounter as a budding data scientist. Congratulations, and looking forward to seeing you at the next step in the course! "
   ]
  }
 ],
 "metadata": {
  "colab": {
   "collapsed_sections": [],
   "name": "Springboard Data Science Career Track Unit 4 Challenge - Tier 3 Complete .ipynb",
   "provenance": []
  },
  "kernelspec": {
   "display_name": "Python 3",
   "language": "python",
   "name": "python3"
  },
  "language_info": {
   "codemirror_mode": {
    "name": "ipython",
    "version": 3
   },
   "file_extension": ".py",
   "mimetype": "text/x-python",
   "name": "python",
   "nbconvert_exporter": "python",
   "pygments_lexer": "ipython3",
   "version": "3.13.1"
  }
 },
 "nbformat": 4,
 "nbformat_minor": 0
}
